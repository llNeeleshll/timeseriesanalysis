{
 "cells": [
  {
   "cell_type": "markdown",
   "metadata": {},
   "source": [
    "## VARMA Model\n",
    "\n",
    "VARMA Model is simply Vector with ARMA Model. That is to say, we have seen that VAR model deals with the $K$ dimensional equations.\n",
    "\n",
    "We're goig to see user of VARMA model in the datasets we used for VAR mdoel. We'll see that this VARMA model performs poorly on these datasets. This is because the corelation between these two timeseries is not enough. So the ideal situation is we first user ARIMA model on single timeseries to see the model performance."
   ]
  },
  {
   "cell_type": "code",
   "execution_count": 4,
   "metadata": {},
   "outputs": [],
   "source": [
    "import pandas as pd\n",
    "import numpy as np\n",
    "\n",
    "from statsmodels.tsa.statespace.varmax import VARMAX, VARMAXResults\n",
    "from statsmodels.tsa.stattools import adfuller\n",
    "from statsmodels.tools.eval_measures import rmse"
   ]
  },
  {
   "cell_type": "markdown",
   "metadata": {},
   "source": [
    "Loading the datasets. Here these two datasets have interdependent timeseries.\n",
    "\n",
    "**Step 1 : Loading the Datasets**"
   ]
  },
  {
   "cell_type": "code",
   "execution_count": 2,
   "metadata": {},
   "outputs": [
    {
     "data": {
      "text/html": [
       "<div>\n",
       "<style scoped>\n",
       "    .dataframe tbody tr th:only-of-type {\n",
       "        vertical-align: middle;\n",
       "    }\n",
       "\n",
       "    .dataframe tbody tr th {\n",
       "        vertical-align: top;\n",
       "    }\n",
       "\n",
       "    .dataframe thead th {\n",
       "        text-align: right;\n",
       "    }\n",
       "</style>\n",
       "<table border=\"1\" class=\"dataframe\">\n",
       "  <thead>\n",
       "    <tr style=\"text-align: right;\">\n",
       "      <th></th>\n",
       "      <th>Money</th>\n",
       "    </tr>\n",
       "    <tr>\n",
       "      <th>Date</th>\n",
       "      <th></th>\n",
       "    </tr>\n",
       "  </thead>\n",
       "  <tbody>\n",
       "    <tr>\n",
       "      <th>1995-01-01</th>\n",
       "      <td>3492.4</td>\n",
       "    </tr>\n",
       "    <tr>\n",
       "      <th>1995-02-01</th>\n",
       "      <td>3489.9</td>\n",
       "    </tr>\n",
       "    <tr>\n",
       "      <th>1995-03-01</th>\n",
       "      <td>3491.1</td>\n",
       "    </tr>\n",
       "    <tr>\n",
       "      <th>1995-04-01</th>\n",
       "      <td>3499.2</td>\n",
       "    </tr>\n",
       "    <tr>\n",
       "      <th>1995-05-01</th>\n",
       "      <td>3524.2</td>\n",
       "    </tr>\n",
       "  </tbody>\n",
       "</table>\n",
       "</div>"
      ],
      "text/plain": [
       "             Money\n",
       "Date              \n",
       "1995-01-01  3492.4\n",
       "1995-02-01  3489.9\n",
       "1995-03-01  3491.1\n",
       "1995-04-01  3499.2\n",
       "1995-05-01  3524.2"
      ]
     },
     "execution_count": 2,
     "metadata": {},
     "output_type": "execute_result"
    }
   ],
   "source": [
    "df = pd.read_csv(r'C:\\Users\\nevishwakarma\\Documents\\Datasets\\Data_Udemy\\M2SLMoneyStock.csv', index_col=[0], parse_dates=True)\n",
    "df.index.freq = 'MS'\n",
    "df.head()"
   ]
  },
  {
   "cell_type": "code",
   "execution_count": 3,
   "metadata": {},
   "outputs": [
    {
     "data": {
      "text/html": [
       "<div>\n",
       "<style scoped>\n",
       "    .dataframe tbody tr th:only-of-type {\n",
       "        vertical-align: middle;\n",
       "    }\n",
       "\n",
       "    .dataframe tbody tr th {\n",
       "        vertical-align: top;\n",
       "    }\n",
       "\n",
       "    .dataframe thead th {\n",
       "        text-align: right;\n",
       "    }\n",
       "</style>\n",
       "<table border=\"1\" class=\"dataframe\">\n",
       "  <thead>\n",
       "    <tr style=\"text-align: right;\">\n",
       "      <th></th>\n",
       "      <th>Spending</th>\n",
       "    </tr>\n",
       "    <tr>\n",
       "      <th>Date</th>\n",
       "      <th></th>\n",
       "    </tr>\n",
       "  </thead>\n",
       "  <tbody>\n",
       "    <tr>\n",
       "      <th>1995-01-01</th>\n",
       "      <td>4851.2</td>\n",
       "    </tr>\n",
       "    <tr>\n",
       "      <th>1995-02-01</th>\n",
       "      <td>4850.8</td>\n",
       "    </tr>\n",
       "    <tr>\n",
       "      <th>1995-03-01</th>\n",
       "      <td>4885.4</td>\n",
       "    </tr>\n",
       "    <tr>\n",
       "      <th>1995-04-01</th>\n",
       "      <td>4890.2</td>\n",
       "    </tr>\n",
       "    <tr>\n",
       "      <th>1995-05-01</th>\n",
       "      <td>4933.1</td>\n",
       "    </tr>\n",
       "  </tbody>\n",
       "</table>\n",
       "</div>"
      ],
      "text/plain": [
       "            Spending\n",
       "Date                \n",
       "1995-01-01    4851.2\n",
       "1995-02-01    4850.8\n",
       "1995-03-01    4885.4\n",
       "1995-04-01    4890.2\n",
       "1995-05-01    4933.1"
      ]
     },
     "execution_count": 3,
     "metadata": {},
     "output_type": "execute_result"
    }
   ],
   "source": [
    "sp = pd.read_csv(r'C:\\Users\\nevishwakarma\\Documents\\Datasets\\Data_Udemy\\PCEPersonalSpending.csv', index_col=[0], parse_dates=True)\n",
    "sp.index.freq = 'MS'\n",
    "sp.head()"
   ]
  },
  {
   "cell_type": "code",
   "execution_count": 5,
   "metadata": {},
   "outputs": [],
   "source": [
    "df = df.join(sp)"
   ]
  },
  {
   "cell_type": "code",
   "execution_count": 6,
   "metadata": {},
   "outputs": [
    {
     "data": {
      "text/html": [
       "<div>\n",
       "<style scoped>\n",
       "    .dataframe tbody tr th:only-of-type {\n",
       "        vertical-align: middle;\n",
       "    }\n",
       "\n",
       "    .dataframe tbody tr th {\n",
       "        vertical-align: top;\n",
       "    }\n",
       "\n",
       "    .dataframe thead th {\n",
       "        text-align: right;\n",
       "    }\n",
       "</style>\n",
       "<table border=\"1\" class=\"dataframe\">\n",
       "  <thead>\n",
       "    <tr style=\"text-align: right;\">\n",
       "      <th></th>\n",
       "      <th>Money</th>\n",
       "      <th>Spending</th>\n",
       "    </tr>\n",
       "    <tr>\n",
       "      <th>Date</th>\n",
       "      <th></th>\n",
       "      <th></th>\n",
       "    </tr>\n",
       "  </thead>\n",
       "  <tbody>\n",
       "    <tr>\n",
       "      <th>1995-01-01</th>\n",
       "      <td>3492.4</td>\n",
       "      <td>4851.2</td>\n",
       "    </tr>\n",
       "    <tr>\n",
       "      <th>1995-02-01</th>\n",
       "      <td>3489.9</td>\n",
       "      <td>4850.8</td>\n",
       "    </tr>\n",
       "    <tr>\n",
       "      <th>1995-03-01</th>\n",
       "      <td>3491.1</td>\n",
       "      <td>4885.4</td>\n",
       "    </tr>\n",
       "    <tr>\n",
       "      <th>1995-04-01</th>\n",
       "      <td>3499.2</td>\n",
       "      <td>4890.2</td>\n",
       "    </tr>\n",
       "    <tr>\n",
       "      <th>1995-05-01</th>\n",
       "      <td>3524.2</td>\n",
       "      <td>4933.1</td>\n",
       "    </tr>\n",
       "  </tbody>\n",
       "</table>\n",
       "</div>"
      ],
      "text/plain": [
       "             Money  Spending\n",
       "Date                        \n",
       "1995-01-01  3492.4    4851.2\n",
       "1995-02-01  3489.9    4850.8\n",
       "1995-03-01  3491.1    4885.4\n",
       "1995-04-01  3499.2    4890.2\n",
       "1995-05-01  3524.2    4933.1"
      ]
     },
     "execution_count": 6,
     "metadata": {},
     "output_type": "execute_result"
    }
   ],
   "source": [
    "df = df.dropna()\n",
    "df.head()"
   ]
  },
  {
   "cell_type": "code",
   "execution_count": 7,
   "metadata": {},
   "outputs": [
    {
     "data": {
      "text/plain": [
       "<AxesSubplot:xlabel='Date'>"
      ]
     },
     "execution_count": 7,
     "metadata": {},
     "output_type": "execute_result"
    },
    {
     "data": {
      "image/png": "[encoded data removed]",
      "text/plain": [
       "<Figure size 864x360 with 1 Axes>"
      ]
     },
     "metadata": {
      "needs_background": "light"
     },
     "output_type": "display_data"
    }
   ],
   "source": [
    "df.plot(figsize=(12,5))"
   ]
  },
  {
   "cell_type": "markdown",
   "metadata": {},
   "source": [
    "**Step 2 : Checking for stationarity**"
   ]
  },
  {
   "cell_type": "code",
   "execution_count": 8,
   "metadata": {},
   "outputs": [
    {
     "name": "stdout",
     "output_type": "stream",
     "text": [
      "Time-series is Non-Stationary\n"
     ]
    }
   ],
   "source": [
    "def parse_results(results):\n",
    "    if results[1] <= 0.05:\n",
    "        print(\"Time-series is Stationary\")\n",
    "    else:\n",
    "        print(\"Time-series is Non-Stationary\")\n",
    "\n",
    "result1 = adfuller(df['Money'])\n",
    "parse_results(result1)"
   ]
  },
  {
   "cell_type": "code",
   "execution_count": 9,
   "metadata": {},
   "outputs": [
    {
     "name": "stdout",
     "output_type": "stream",
     "text": [
      "Time-series is Non-Stationary\n"
     ]
    }
   ],
   "source": [
    "result1 = adfuller(df['Spending'])\n",
    "parse_results(result1)"
   ]
  },
  {
   "cell_type": "markdown",
   "metadata": {},
   "source": [
    "So, both the series are non-stationary\n",
    "\n",
    "**Step 3 : Making Series Stationary**"
   ]
  },
  {
   "cell_type": "code",
   "execution_count": 10,
   "metadata": {},
   "outputs": [],
   "source": [
    "df_transformed = df.diff()\n",
    "df_transformed = df_transformed.dropna()"
   ]
  },
  {
   "cell_type": "code",
   "execution_count": 11,
   "metadata": {},
   "outputs": [
    {
     "name": "stdout",
     "output_type": "stream",
     "text": [
      "Time-series is Non-Stationary\n"
     ]
    }
   ],
   "source": [
    "parse_results(adfuller(df_transformed['Money']))"
   ]
  },
  {
   "cell_type": "code",
   "execution_count": 12,
   "metadata": {},
   "outputs": [
    {
     "name": "stdout",
     "output_type": "stream",
     "text": [
      "Time-series is Stationary\n"
     ]
    }
   ],
   "source": [
    "parse_results(adfuller(df_transformed['Spending']))"
   ]
  },
  {
   "cell_type": "markdown",
   "metadata": {},
   "source": [
    "Since Money is still non-stationary we have to run diff on both the columns."
   ]
  },
  {
   "cell_type": "code",
   "execution_count": 13,
   "metadata": {},
   "outputs": [],
   "source": [
    "df_transformed = df_transformed.diff().dropna()"
   ]
  },
  {
   "cell_type": "code",
   "execution_count": 14,
   "metadata": {},
   "outputs": [
    {
     "name": "stdout",
     "output_type": "stream",
     "text": [
      "Time-series is Stationary\n"
     ]
    }
   ],
   "source": [
    "parse_results(adfuller(df_transformed['Money']))"
   ]
  },
  {
   "cell_type": "code",
   "execution_count": 15,
   "metadata": {},
   "outputs": [
    {
     "name": "stdout",
     "output_type": "stream",
     "text": [
      "Time-series is Stationary\n"
     ]
    }
   ],
   "source": [
    "parse_results(adfuller(df_transformed['Spending']))"
   ]
  },
  {
   "cell_type": "markdown",
   "metadata": {},
   "source": [
    "Cool, now both the series are stationary.\n",
    "\n",
    "**Step 4 : Train Test split**"
   ]
  },
  {
   "cell_type": "code",
   "execution_count": 16,
   "metadata": {},
   "outputs": [],
   "source": [
    "nobs = 12\n",
    "train = df_transformed[:-nobs] # start = begining of DF --> -12 from the end | We get 250-12 data points in train set\n",
    "test = df_transformed[-nobs:] # start = Start at -12 -> end of the dataframe | We get 12 data points in test set"
   ]
  },
  {
   "cell_type": "markdown",
   "metadata": {},
   "source": [
    "**Step 5 : Choosing the order of p & q value using <tt>auto_arima</tt>**"
   ]
  },
  {
   "cell_type": "code",
   "execution_count": 17,
   "metadata": {},
   "outputs": [],
   "source": [
    "from pmdarima import auto_arima"
   ]
  },
  {
   "cell_type": "code",
   "execution_count": 18,
   "metadata": {},
   "outputs": [
    {
     "data": {
      "text/plain": [
       "ARIMA(maxiter=1000, order=(1, 2, 1), scoring_args={}, suppress_warnings=True,\n",
       "      with_intercept=False)"
      ]
     },
     "execution_count": 18,
     "metadata": {},
     "output_type": "execute_result"
    }
   ],
   "source": [
    "auto_arima(df['Money'], maxiter=1000)"
   ]
  },
  {
   "cell_type": "code",
   "execution_count": 19,
   "metadata": {},
   "outputs": [
    {
     "data": {
      "text/plain": [
       "ARIMA(maxiter=1000, order=(1, 1, 2), scoring_args={}, suppress_warnings=True)"
      ]
     },
     "execution_count": 19,
     "metadata": {},
     "output_type": "execute_result"
    }
   ],
   "source": [
    "auto_arima(df['Spending'], maxiter=1000)"
   ]
  },
  {
   "cell_type": "markdown",
   "metadata": {},
   "source": [
    "The $I$ terms in both Money and Spending is 2 and 1 repectively. That means the Money series will have to be differenced twice to make it stationary and Spending series will have to be differenced once. This is what we've seen previously, in the above steps. So we're going to use VARMA(1,2)."
   ]
  },
  {
   "cell_type": "markdown",
   "metadata": {},
   "source": [
    "**Step 6 : Modelling**"
   ]
  },
  {
   "cell_type": "code",
   "execution_count": 20,
   "metadata": {},
   "outputs": [
    {
     "name": "stderr",
     "output_type": "stream",
     "text": [
      "C:\\Users\\nevishwakarma\\AppData\\Local\\Programs\\Python\\Python38\\lib\\site-packages\\statsmodels\\tsa\\statespace\\varmax.py:161: EstimationWarning: Estimation of VARMA(p,q) models is not generically robust, due especially to identification issues.\n",
      "  warn('Estimation of VARMA(p,q) models is not generically robust,'\n"
     ]
    },
    {
     "data": {
      "text/html": [
       "<table class=\"simpletable\">\n",
       "<caption>Statespace Model Results</caption>\n",
       "<tr>\n",
       "  <th>Dep. Variable:</th>   <td>['Money', 'Spending']</td> <th>  No. Observations:  </th>    <td>238</td>   \n",
       "</tr>\n",
       "<tr>\n",
       "  <th>Model:</th>                <td>VARMA(1,2)</td>       <th>  Log Likelihood     </th> <td>-2286.019</td>\n",
       "</tr>\n",
       "<tr>\n",
       "  <th></th>                      <td>+ intercept</td>      <th>  AIC                </th> <td>4606.039</td> \n",
       "</tr>\n",
       "<tr>\n",
       "  <th>Date:</th>              <td>Fri, 31 Dec 2021</td>    <th>  BIC                </th> <td>4665.067</td> \n",
       "</tr>\n",
       "<tr>\n",
       "  <th>Time:</th>                  <td>00:59:18</td>        <th>  HQIC               </th> <td>4629.828</td> \n",
       "</tr>\n",
       "<tr>\n",
       "  <th>Sample:</th>               <td>03-01-1995</td>       <th>                     </th>     <td> </td>    \n",
       "</tr>\n",
       "<tr>\n",
       "  <th></th>                     <td>- 12-01-2014</td>      <th>                     </th>     <td> </td>    \n",
       "</tr>\n",
       "<tr>\n",
       "  <th>Covariance Type:</th>          <td>opg</td>          <th>                     </th>     <td> </td>    \n",
       "</tr>\n",
       "</table>\n",
       "<table class=\"simpletable\">\n",
       "<tr>\n",
       "  <th>Ljung-Box (L1) (Q):</th>     <td>0.55, 0.00</td> <th>  Jarque-Bera (JB):  </th> <td>552.42, 121.95</td>\n",
       "</tr>\n",
       "<tr>\n",
       "  <th>Prob(Q):</th>                <td>0.46, 0.97</td> <th>  Prob(JB):          </th>   <td>0.00, 0.00</td>  \n",
       "</tr>\n",
       "<tr>\n",
       "  <th>Heteroskedasticity (H):</th> <td>5.59, 2.90</td> <th>  Skew:              </th>   <td>1.33, -0.34</td> \n",
       "</tr>\n",
       "<tr>\n",
       "  <th>Prob(H) (two-sided):</th>    <td>0.00, 0.00</td> <th>  Kurtosis:          </th>   <td>9.97, 6.44</td>  \n",
       "</tr>\n",
       "</table>\n",
       "<table class=\"simpletable\">\n",
       "<caption>Results for equation Money</caption>\n",
       "<tr>\n",
       "         <td></td>           <th>coef</th>     <th>std err</th>      <th>z</th>      <th>P>|z|</th>  <th>[0.025</th>    <th>0.975]</th>  \n",
       "</tr>\n",
       "<tr>\n",
       "  <th>intercept</th>      <td>   -0.0475</td> <td>    0.970</td> <td>   -0.049</td> <td> 0.961</td> <td>   -1.948</td> <td>    1.853</td>\n",
       "</tr>\n",
       "<tr>\n",
       "  <th>L1.Money</th>       <td>   -1.2116</td> <td>    4.650</td> <td>   -0.261</td> <td> 0.794</td> <td>  -10.326</td> <td>    7.903</td>\n",
       "</tr>\n",
       "<tr>\n",
       "  <th>L1.Spending</th>    <td>    2.4199</td> <td>    8.451</td> <td>    0.286</td> <td> 0.775</td> <td>  -14.144</td> <td>   18.983</td>\n",
       "</tr>\n",
       "<tr>\n",
       "  <th>L1.e(Money)</th>    <td>    0.4458</td> <td>    4.639</td> <td>    0.096</td> <td> 0.923</td> <td>   -8.646</td> <td>    9.538</td>\n",
       "</tr>\n",
       "<tr>\n",
       "  <th>L1.e(Spending)</th> <td>   -2.5468</td> <td>    8.454</td> <td>   -0.301</td> <td> 0.763</td> <td>  -19.116</td> <td>   14.023</td>\n",
       "</tr>\n",
       "<tr>\n",
       "  <th>L2.e(Money)</th>    <td>   -1.4728</td> <td>    4.731</td> <td>   -0.311</td> <td> 0.756</td> <td>  -10.746</td> <td>    7.800</td>\n",
       "</tr>\n",
       "<tr>\n",
       "  <th>L2.e(Spending)</th> <td>    2.2350</td> <td>    7.427</td> <td>    0.301</td> <td> 0.763</td> <td>  -12.321</td> <td>   16.791</td>\n",
       "</tr>\n",
       "</table>\n",
       "<table class=\"simpletable\">\n",
       "<caption>Results for equation Spending</caption>\n",
       "<tr>\n",
       "         <td></td>           <th>coef</th>     <th>std err</th>      <th>z</th>      <th>P>|z|</th>  <th>[0.025</th>    <th>0.975]</th>  \n",
       "</tr>\n",
       "<tr>\n",
       "  <th>intercept</th>      <td>    0.0910</td> <td>    0.377</td> <td>    0.241</td> <td> 0.809</td> <td>   -0.648</td> <td>    0.830</td>\n",
       "</tr>\n",
       "<tr>\n",
       "  <th>L1.Money</th>       <td>   -0.3680</td> <td>    2.671</td> <td>   -0.138</td> <td> 0.890</td> <td>   -5.604</td> <td>    4.868</td>\n",
       "</tr>\n",
       "<tr>\n",
       "  <th>L1.Spending</th>    <td>    0.8346</td> <td>    4.676</td> <td>    0.178</td> <td> 0.858</td> <td>   -8.330</td> <td>    9.999</td>\n",
       "</tr>\n",
       "<tr>\n",
       "  <th>L1.e(Money)</th>    <td>    0.4887</td> <td>    2.732</td> <td>    0.179</td> <td> 0.858</td> <td>   -4.865</td> <td>    5.842</td>\n",
       "</tr>\n",
       "<tr>\n",
       "  <th>L1.e(Spending)</th> <td>   -1.7893</td> <td>    4.653</td> <td>   -0.385</td> <td> 0.701</td> <td>  -10.909</td> <td>    7.331</td>\n",
       "</tr>\n",
       "<tr>\n",
       "  <th>L2.e(Money)</th>    <td>   -0.4878</td> <td>    2.787</td> <td>   -0.175</td> <td> 0.861</td> <td>   -5.950</td> <td>    4.974</td>\n",
       "</tr>\n",
       "<tr>\n",
       "  <th>L2.e(Spending)</th> <td>    0.8053</td> <td>    4.068</td> <td>    0.198</td> <td> 0.843</td> <td>   -7.168</td> <td>    8.779</td>\n",
       "</tr>\n",
       "</table>\n",
       "<table class=\"simpletable\">\n",
       "<caption>Error covariance matrix</caption>\n",
       "<tr>\n",
       "             <td></td>                <th>coef</th>     <th>std err</th>      <th>z</th>      <th>P>|z|</th>  <th>[0.025</th>    <th>0.975]</th>  \n",
       "</tr>\n",
       "<tr>\n",
       "  <th>sqrt.var.Money</th>          <td>   25.8105</td> <td>    2.770</td> <td>    9.317</td> <td> 0.000</td> <td>   20.381</td> <td>   31.240</td>\n",
       "</tr>\n",
       "<tr>\n",
       "  <th>sqrt.cov.Money.Spending</th> <td>  -10.0345</td> <td>    1.934</td> <td>   -5.188</td> <td> 0.000</td> <td>  -13.826</td> <td>   -6.243</td>\n",
       "</tr>\n",
       "<tr>\n",
       "  <th>sqrt.var.Spending</th>       <td>   33.3661</td> <td>    1.242</td> <td>   26.866</td> <td> 0.000</td> <td>   30.932</td> <td>   35.800</td>\n",
       "</tr>\n",
       "</table><br/><br/>Warnings:<br/>[1] Covariance matrix calculated using the outer product of gradients (complex-step)."
      ],
      "text/plain": [
       "<class 'statsmodels.iolib.summary.Summary'>\n",
       "\"\"\"\n",
       "                             Statespace Model Results                            \n",
       "=================================================================================\n",
       "Dep. Variable:     ['Money', 'Spending']   No. Observations:                  238\n",
       "Model:                        VARMA(1,2)   Log Likelihood               -2286.019\n",
       "                             + intercept   AIC                           4606.039\n",
       "Date:                   Fri, 31 Dec 2021   BIC                           4665.067\n",
       "Time:                           00:59:18   HQIC                          4629.828\n",
       "Sample:                       03-01-1995                                         \n",
       "                            - 12-01-2014                                         \n",
       "Covariance Type:                     opg                                         \n",
       "===================================================================================\n",
       "Ljung-Box (L1) (Q):             0.55, 0.00   Jarque-Bera (JB):       552.42, 121.95\n",
       "Prob(Q):                        0.46, 0.97   Prob(JB):                   0.00, 0.00\n",
       "Heteroskedasticity (H):         5.59, 2.90   Skew:                      1.33, -0.34\n",
       "Prob(H) (two-sided):            0.00, 0.00   Kurtosis:                   9.97, 6.44\n",
       "                            Results for equation Money                            \n",
       "==================================================================================\n",
       "                     coef    std err          z      P>|z|      [0.025      0.975]\n",
       "----------------------------------------------------------------------------------\n",
       "intercept         -0.0475      0.970     -0.049      0.961      -1.948       1.853\n",
       "L1.Money          -1.2116      4.650     -0.261      0.794     -10.326       7.903\n",
       "L1.Spending        2.4199      8.451      0.286      0.775     -14.144      18.983\n",
       "L1.e(Money)        0.4458      4.639      0.096      0.923      -8.646       9.538\n",
       "L1.e(Spending)    -2.5468      8.454     -0.301      0.763     -19.116      14.023\n",
       "L2.e(Money)       -1.4728      4.731     -0.311      0.756     -10.746       7.800\n",
       "L2.e(Spending)     2.2350      7.427      0.301      0.763     -12.321      16.791\n",
       "                          Results for equation Spending                           \n",
       "==================================================================================\n",
       "                     coef    std err          z      P>|z|      [0.025      0.975]\n",
       "----------------------------------------------------------------------------------\n",
       "intercept          0.0910      0.377      0.241      0.809      -0.648       0.830\n",
       "L1.Money          -0.3680      2.671     -0.138      0.890      -5.604       4.868\n",
       "L1.Spending        0.8346      4.676      0.178      0.858      -8.330       9.999\n",
       "L1.e(Money)        0.4887      2.732      0.179      0.858      -4.865       5.842\n",
       "L1.e(Spending)    -1.7893      4.653     -0.385      0.701     -10.909       7.331\n",
       "L2.e(Money)       -0.4878      2.787     -0.175      0.861      -5.950       4.974\n",
       "L2.e(Spending)     0.8053      4.068      0.198      0.843      -7.168       8.779\n",
       "                                  Error covariance matrix                                  \n",
       "===========================================================================================\n",
       "                              coef    std err          z      P>|z|      [0.025      0.975]\n",
       "-------------------------------------------------------------------------------------------\n",
       "sqrt.var.Money             25.8105      2.770      9.317      0.000      20.381      31.240\n",
       "sqrt.cov.Money.Spending   -10.0345      1.934     -5.188      0.000     -13.826      -6.243\n",
       "sqrt.var.Spending          33.3661      1.242     26.866      0.000      30.932      35.800\n",
       "===========================================================================================\n",
       "\n",
       "Warnings:\n",
       "[1] Covariance matrix calculated using the outer product of gradients (complex-step).\n",
       "\"\"\""
      ]
     },
     "execution_count": 20,
     "metadata": {},
     "output_type": "execute_result"
    }
   ],
   "source": [
    "model = VARMAX(train, order=(1,2), trend='c')\n",
    "results = model.fit(maxiter=1000, disp=False)\n",
    "results.summary()"
   ]
  },
  {
   "cell_type": "markdown",
   "metadata": {},
   "source": [
    "**Step 7 : Prediction for Testing**"
   ]
  },
  {
   "cell_type": "code",
   "execution_count": 21,
   "metadata": {},
   "outputs": [
    {
     "data": {
      "text/html": [
       "<div>\n",
       "<style scoped>\n",
       "    .dataframe tbody tr th:only-of-type {\n",
       "        vertical-align: middle;\n",
       "    }\n",
       "\n",
       "    .dataframe tbody tr th {\n",
       "        vertical-align: top;\n",
       "    }\n",
       "\n",
       "    .dataframe thead th {\n",
       "        text-align: right;\n",
       "    }\n",
       "</style>\n",
       "<table border=\"1\" class=\"dataframe\">\n",
       "  <thead>\n",
       "    <tr style=\"text-align: right;\">\n",
       "      <th></th>\n",
       "      <th>Money</th>\n",
       "      <th>Spending</th>\n",
       "    </tr>\n",
       "  </thead>\n",
       "  <tbody>\n",
       "    <tr>\n",
       "      <th>2015-01-01</th>\n",
       "      <td>-11.955355</td>\n",
       "      <td>38.304043</td>\n",
       "    </tr>\n",
       "    <tr>\n",
       "      <th>2015-02-01</th>\n",
       "      <td>-11.256512</td>\n",
       "      <td>-5.078215</td>\n",
       "    </tr>\n",
       "    <tr>\n",
       "      <th>2015-03-01</th>\n",
       "      <td>1.302755</td>\n",
       "      <td>-0.005363</td>\n",
       "    </tr>\n",
       "    <tr>\n",
       "      <th>2015-04-01</th>\n",
       "      <td>-1.638995</td>\n",
       "      <td>-0.392828</td>\n",
       "    </tr>\n",
       "    <tr>\n",
       "      <th>2015-05-01</th>\n",
       "      <td>0.987741</td>\n",
       "      <td>0.366241</td>\n",
       "    </tr>\n",
       "  </tbody>\n",
       "</table>\n",
       "</div>"
      ],
      "text/plain": [
       "                Money   Spending\n",
       "2015-01-01 -11.955355  38.304043\n",
       "2015-02-01 -11.256512  -5.078215\n",
       "2015-03-01   1.302755  -0.005363\n",
       "2015-04-01  -1.638995  -0.392828\n",
       "2015-05-01   0.987741   0.366241"
      ]
     },
     "execution_count": 21,
     "metadata": {},
     "output_type": "execute_result"
    }
   ],
   "source": [
    "df_predictions = results.forecast(12)\n",
    "df_predictions.head()"
   ]
  },
  {
   "cell_type": "markdown",
   "metadata": {},
   "source": [
    "Above values are the second order diff so we need to revert the diff process twice to get the original data back"
   ]
  },
  {
   "cell_type": "code",
   "execution_count": 23,
   "metadata": {},
   "outputs": [],
   "source": [
    "# Add the most recent first difference from the training side of the original dataset to the forecast cumulative sum\n",
    "df_predictions['Money_1d'] = (df['Money'].iloc[-nobs-1]-df['Money'].iloc[-nobs-2]) + df_predictions['Money'].cumsum()\n",
    "\n",
    "# Now build the forecast values from the first difference set\n",
    "df_predictions['MoneyForecast'] = df['Money'].iloc[-nobs-1] + df_predictions['Money'].cumsum()"
   ]
  },
  {
   "cell_type": "code",
   "execution_count": 24,
   "metadata": {},
   "outputs": [],
   "source": [
    "# Add the most recent first difference from the training side of the original dataset to the forecast cumulative sum\n",
    "df_predictions['Spending_1d'] = (df['Spending'].iloc[-nobs-1]-df['Spending'].iloc[-nobs-2]) + df_predictions['Spending'].cumsum()\n",
    "\n",
    "# Now build the forecast values from the first difference set\n",
    "df_predictions['SpendingForecast'] = df['Spending'].iloc[-nobs-1] + df_predictions['Spending'].cumsum()"
   ]
  },
  {
   "cell_type": "code",
   "execution_count": 25,
   "metadata": {},
   "outputs": [
    {
     "data": {
      "text/html": [
       "<div>\n",
       "<style scoped>\n",
       "    .dataframe tbody tr th:only-of-type {\n",
       "        vertical-align: middle;\n",
       "    }\n",
       "\n",
       "    .dataframe tbody tr th {\n",
       "        vertical-align: top;\n",
       "    }\n",
       "\n",
       "    .dataframe thead th {\n",
       "        text-align: right;\n",
       "    }\n",
       "</style>\n",
       "<table border=\"1\" class=\"dataframe\">\n",
       "  <thead>\n",
       "    <tr style=\"text-align: right;\">\n",
       "      <th></th>\n",
       "      <th>Money</th>\n",
       "      <th>Spending</th>\n",
       "      <th>Money_1d</th>\n",
       "      <th>MoneyForecast</th>\n",
       "      <th>Spending_1d</th>\n",
       "      <th>SpendingForecast</th>\n",
       "    </tr>\n",
       "  </thead>\n",
       "  <tbody>\n",
       "    <tr>\n",
       "      <th>2015-01-01</th>\n",
       "      <td>-11.955355</td>\n",
       "      <td>38.304043</td>\n",
       "      <td>66.644645</td>\n",
       "      <td>11658.144645</td>\n",
       "      <td>48.904043</td>\n",
       "      <td>12100.304043</td>\n",
       "    </tr>\n",
       "    <tr>\n",
       "      <th>2015-02-01</th>\n",
       "      <td>-11.256512</td>\n",
       "      <td>-5.078215</td>\n",
       "      <td>55.388133</td>\n",
       "      <td>11646.888133</td>\n",
       "      <td>43.825827</td>\n",
       "      <td>12095.225827</td>\n",
       "    </tr>\n",
       "    <tr>\n",
       "      <th>2015-03-01</th>\n",
       "      <td>1.302755</td>\n",
       "      <td>-0.005363</td>\n",
       "      <td>56.690888</td>\n",
       "      <td>11648.190888</td>\n",
       "      <td>43.820465</td>\n",
       "      <td>12095.220465</td>\n",
       "    </tr>\n",
       "    <tr>\n",
       "      <th>2015-04-01</th>\n",
       "      <td>-1.638995</td>\n",
       "      <td>-0.392828</td>\n",
       "      <td>55.051893</td>\n",
       "      <td>11646.551893</td>\n",
       "      <td>43.427637</td>\n",
       "      <td>12094.827637</td>\n",
       "    </tr>\n",
       "    <tr>\n",
       "      <th>2015-05-01</th>\n",
       "      <td>0.987741</td>\n",
       "      <td>0.366241</td>\n",
       "      <td>56.039633</td>\n",
       "      <td>11647.539633</td>\n",
       "      <td>43.793878</td>\n",
       "      <td>12095.193878</td>\n",
       "    </tr>\n",
       "  </tbody>\n",
       "</table>\n",
       "</div>"
      ],
      "text/plain": [
       "                Money   Spending   Money_1d  MoneyForecast  Spending_1d  \\\n",
       "2015-01-01 -11.955355  38.304043  66.644645   11658.144645    48.904043   \n",
       "2015-02-01 -11.256512  -5.078215  55.388133   11646.888133    43.825827   \n",
       "2015-03-01   1.302755  -0.005363  56.690888   11648.190888    43.820465   \n",
       "2015-04-01  -1.638995  -0.392828  55.051893   11646.551893    43.427637   \n",
       "2015-05-01   0.987741   0.366241  56.039633   11647.539633    43.793878   \n",
       "\n",
       "            SpendingForecast  \n",
       "2015-01-01      12100.304043  \n",
       "2015-02-01      12095.225827  \n",
       "2015-03-01      12095.220465  \n",
       "2015-04-01      12094.827637  \n",
       "2015-05-01      12095.193878  "
      ]
     },
     "execution_count": 25,
     "metadata": {},
     "output_type": "execute_result"
    }
   ],
   "source": [
    "df_predictions"
   ]
  },
  {
   "cell_type": "code",
   "execution_count": 36,
   "metadata": {},
   "outputs": [
    {
     "data": {
      "text/html": [
       "<div>\n",
       "<style scoped>\n",
       "    .dataframe tbody tr th:only-of-type {\n",
       "        vertical-align: middle;\n",
       "    }\n",
       "\n",
       "    .dataframe tbody tr th {\n",
       "        vertical-align: top;\n",
       "    }\n",
       "\n",
       "    .dataframe thead th {\n",
       "        text-align: right;\n",
       "    }\n",
       "</style>\n",
       "<table border=\"1\" class=\"dataframe\">\n",
       "  <thead>\n",
       "    <tr style=\"text-align: right;\">\n",
       "      <th></th>\n",
       "      <th>Money</th>\n",
       "      <th>Spending</th>\n",
       "      <th>MoneyForecast</th>\n",
       "      <th>SpendingForecast</th>\n",
       "    </tr>\n",
       "  </thead>\n",
       "  <tbody>\n",
       "    <tr>\n",
       "      <th>2015-01-01</th>\n",
       "      <td>11733.2</td>\n",
       "      <td>12046.0</td>\n",
       "      <td>11658.144645</td>\n",
       "      <td>12100.304043</td>\n",
       "    </tr>\n",
       "    <tr>\n",
       "      <th>2015-02-01</th>\n",
       "      <td>11852.4</td>\n",
       "      <td>12082.4</td>\n",
       "      <td>11646.888133</td>\n",
       "      <td>12095.225827</td>\n",
       "    </tr>\n",
       "    <tr>\n",
       "      <th>2015-03-01</th>\n",
       "      <td>11868.8</td>\n",
       "      <td>12158.3</td>\n",
       "      <td>11648.190888</td>\n",
       "      <td>12095.220465</td>\n",
       "    </tr>\n",
       "    <tr>\n",
       "      <th>2015-04-01</th>\n",
       "      <td>11916.1</td>\n",
       "      <td>12193.8</td>\n",
       "      <td>11646.551893</td>\n",
       "      <td>12094.827637</td>\n",
       "    </tr>\n",
       "    <tr>\n",
       "      <th>2015-05-01</th>\n",
       "      <td>11947.6</td>\n",
       "      <td>12268.1</td>\n",
       "      <td>11647.539633</td>\n",
       "      <td>12095.193878</td>\n",
       "    </tr>\n",
       "    <tr>\n",
       "      <th>2015-06-01</th>\n",
       "      <td>11993.1</td>\n",
       "      <td>12308.3</td>\n",
       "      <td>11647.181550</td>\n",
       "      <td>12095.227108</td>\n",
       "    </tr>\n",
       "    <tr>\n",
       "      <th>2015-07-01</th>\n",
       "      <td>12045.3</td>\n",
       "      <td>12355.4</td>\n",
       "      <td>11647.648285</td>\n",
       "      <td>12095.477615</td>\n",
       "    </tr>\n",
       "    <tr>\n",
       "      <th>2015-08-01</th>\n",
       "      <td>12096.8</td>\n",
       "      <td>12394.0</td>\n",
       "      <td>11647.641415</td>\n",
       "      <td>12095.605963</td>\n",
       "    </tr>\n",
       "    <tr>\n",
       "      <th>2015-09-01</th>\n",
       "      <td>12153.8</td>\n",
       "      <td>12392.8</td>\n",
       "      <td>11647.912776</td>\n",
       "      <td>12095.806624</td>\n",
       "    </tr>\n",
       "    <tr>\n",
       "      <th>2015-10-01</th>\n",
       "      <td>12187.7</td>\n",
       "      <td>12416.1</td>\n",
       "      <td>11648.022007</td>\n",
       "      <td>12095.965259</td>\n",
       "    </tr>\n",
       "    <tr>\n",
       "      <th>2015-11-01</th>\n",
       "      <td>12277.4</td>\n",
       "      <td>12450.1</td>\n",
       "      <td>11648.225986</td>\n",
       "      <td>12096.148477</td>\n",
       "    </tr>\n",
       "    <tr>\n",
       "      <th>2015-12-01</th>\n",
       "      <td>12335.9</td>\n",
       "      <td>12469.1</td>\n",
       "      <td>11648.374652</td>\n",
       "      <td>12096.317349</td>\n",
       "    </tr>\n",
       "  </tbody>\n",
       "</table>\n",
       "</div>"
      ],
      "text/plain": [
       "              Money  Spending  MoneyForecast  SpendingForecast\n",
       "2015-01-01  11733.2   12046.0   11658.144645      12100.304043\n",
       "2015-02-01  11852.4   12082.4   11646.888133      12095.225827\n",
       "2015-03-01  11868.8   12158.3   11648.190888      12095.220465\n",
       "2015-04-01  11916.1   12193.8   11646.551893      12094.827637\n",
       "2015-05-01  11947.6   12268.1   11647.539633      12095.193878\n",
       "2015-06-01  11993.1   12308.3   11647.181550      12095.227108\n",
       "2015-07-01  12045.3   12355.4   11647.648285      12095.477615\n",
       "2015-08-01  12096.8   12394.0   11647.641415      12095.605963\n",
       "2015-09-01  12153.8   12392.8   11647.912776      12095.806624\n",
       "2015-10-01  12187.7   12416.1   11648.022007      12095.965259\n",
       "2015-11-01  12277.4   12450.1   11648.225986      12096.148477\n",
       "2015-12-01  12335.9   12469.1   11648.374652      12096.317349"
      ]
     },
     "execution_count": 36,
     "metadata": {},
     "output_type": "execute_result"
    }
   ],
   "source": [
    "pd.concat([df.iloc[-12:], df_predictions[['MoneyForecast','SpendingForecast']]], axis=1)"
   ]
  },
  {
   "cell_type": "code",
   "execution_count": 37,
   "metadata": {},
   "outputs": [
    {
     "data": {
      "text/plain": [
       "<AxesSubplot:xlabel='Date'>"
      ]
     },
     "execution_count": 37,
     "metadata": {},
     "output_type": "execute_result"
    },
    {
     "data": {
      "image/png": "[encoded data removed]",
      "text/plain": [
       "<Figure size 864x360 with 1 Axes>"
      ]
     },
     "metadata": {
      "needs_background": "light"
     },
     "output_type": "display_data"
    }
   ],
   "source": [
    "df['Money'][-nobs:].plot(figsize=(12,5), legend=True)\n",
    "df_predictions['MoneyForecast'].plot(legend=True)"
   ]
  },
  {
   "cell_type": "code",
   "execution_count": 38,
   "metadata": {},
   "outputs": [
    {
     "data": {
      "text/plain": [
       "<AxesSubplot:xlabel='Date'>"
      ]
     },
     "execution_count": 38,
     "metadata": {},
     "output_type": "execute_result"
    },
    {
     "data": {
      "image/png": "[encoded data removed]",
      "text/plain": [
       "<Figure size 864x360 with 1 Axes>"
      ]
     },
     "metadata": {
      "needs_background": "light"
     },
     "output_type": "display_data"
    }
   ],
   "source": [
    "df['Spending'][-nobs:].plot(figsize=(12,5), legend=True)\n",
    "df_predictions['SpendingForecast'].plot(legend=True)"
   ]
  },
  {
   "cell_type": "markdown",
   "metadata": {},
   "source": [
    "As we see, the VARMA model is performing worse than VAR model."
   ]
  },
  {
   "cell_type": "code",
   "execution_count": 40,
   "metadata": {},
   "outputs": [
    {
     "data": {
      "text/plain": [
       "423.7220372936778"
      ]
     },
     "execution_count": 40,
     "metadata": {},
     "output_type": "execute_result"
    }
   ],
   "source": [
    "rmse1 = rmse(df['Money'][-nobs:],df_predictions['MoneyForecast'])\n",
    "rmse1"
   ]
  },
  {
   "cell_type": "code",
   "execution_count": 41,
   "metadata": {},
   "outputs": [
    {
     "data": {
      "text/plain": [
       "242.16439361640198"
      ]
     },
     "execution_count": 41,
     "metadata": {},
     "output_type": "execute_result"
    }
   ],
   "source": [
    "rmse2 = rmse(df['Spending'][-nobs:],df_predictions['SpendingForecast'])\n",
    "rmse2"
   ]
  },
  {
   "cell_type": "markdown",
   "metadata": {},
   "source": [
    "Clearly these results are less accurate than our earlier VAR(5) model. Still, this tells us something!\n",
    "## Let's compare these results to individual ARMA(1,2) models"
   ]
  },
  {
   "cell_type": "code",
   "execution_count": 42,
   "metadata": {},
   "outputs": [],
   "source": [
    "from statsmodels.tsa.arima_model import ARMA,ARMAResults"
   ]
  },
  {
   "cell_type": "markdown",
   "metadata": {},
   "source": [
    "## Money"
   ]
  },
  {
   "cell_type": "code",
   "execution_count": 43,
   "metadata": {},
   "outputs": [
    {
     "name": "stderr",
     "output_type": "stream",
     "text": [
      "C:\\Users\\nevishwakarma\\AppData\\Local\\Programs\\Python\\Python38\\lib\\site-packages\\statsmodels\\tsa\\arima_model.py:472: FutureWarning: \n",
      "statsmodels.tsa.arima_model.ARMA and statsmodels.tsa.arima_model.ARIMA have\n",
      "been deprecated in favor of statsmodels.tsa.arima.model.ARIMA (note the .\n",
      "between arima and model) and\n",
      "statsmodels.tsa.SARIMAX. These will be removed after the 0.12 release.\n",
      "\n",
      "statsmodels.tsa.arima.model.ARIMA makes use of the statespace framework and\n",
      "is both well tested and maintained.\n",
      "\n",
      "To silence this warning and continue using ARMA and ARIMA until they are\n",
      "removed, use:\n",
      "\n",
      "import warnings\n",
      "warnings.filterwarnings('ignore', 'statsmodels.tsa.arima_model.ARMA',\n",
      "                        FutureWarning)\n",
      "warnings.filterwarnings('ignore', 'statsmodels.tsa.arima_model.ARIMA',\n",
      "                        FutureWarning)\n",
      "\n",
      "  warnings.warn(ARIMA_DEPRECATION_WARN, FutureWarning)\n"
     ]
    },
    {
     "data": {
      "text/html": [
       "<table class=\"simpletable\">\n",
       "<caption>ARMA Model Results</caption>\n",
       "<tr>\n",
       "  <th>Dep. Variable:</th>       <td>Money</td>      <th>  No. Observations:  </th>    <td>238</td>   \n",
       "</tr>\n",
       "<tr>\n",
       "  <th>Model:</th>            <td>ARMA(1, 2)</td>    <th>  Log Likelihood     </th> <td>-1117.710</td>\n",
       "</tr>\n",
       "<tr>\n",
       "  <th>Method:</th>             <td>css-mle</td>     <th>  S.D. of innovations</th>  <td>26.215</td>  \n",
       "</tr>\n",
       "<tr>\n",
       "  <th>Date:</th>          <td>Fri, 31 Dec 2021</td> <th>  AIC                </th> <td>2245.421</td> \n",
       "</tr>\n",
       "<tr>\n",
       "  <th>Time:</th>              <td>01:09:19</td>     <th>  BIC                </th> <td>2262.782</td> \n",
       "</tr>\n",
       "<tr>\n",
       "  <th>Sample:</th>           <td>03-01-1995</td>    <th>  HQIC               </th> <td>2252.418</td> \n",
       "</tr>\n",
       "<tr>\n",
       "  <th></th>                 <td>- 12-01-2014</td>   <th>                     </th>     <td> </td>    \n",
       "</tr>\n",
       "</table>\n",
       "<table class=\"simpletable\">\n",
       "<tr>\n",
       "       <td></td>          <th>coef</th>     <th>std err</th>      <th>z</th>      <th>P>|z|</th>  <th>[0.025</th>    <th>0.975]</th>  \n",
       "</tr>\n",
       "<tr>\n",
       "  <th>const</th>       <td>    0.1814</td> <td>    0.029</td> <td>    6.302</td> <td> 0.000</td> <td>    0.125</td> <td>    0.238</td>\n",
       "</tr>\n",
       "<tr>\n",
       "  <th>ar.L1.Money</th> <td>   -0.3569</td> <td>    0.293</td> <td>   -1.217</td> <td> 0.223</td> <td>   -0.931</td> <td>    0.218</td>\n",
       "</tr>\n",
       "<tr>\n",
       "  <th>ma.L1.Money</th> <td>   -0.4087</td> <td>    0.260</td> <td>   -1.572</td> <td> 0.116</td> <td>   -0.918</td> <td>    0.101</td>\n",
       "</tr>\n",
       "<tr>\n",
       "  <th>ma.L2.Money</th> <td>   -0.5912</td> <td>    0.260</td> <td>   -2.278</td> <td> 0.023</td> <td>   -1.100</td> <td>   -0.083</td>\n",
       "</tr>\n",
       "</table>\n",
       "<table class=\"simpletable\">\n",
       "<caption>Roots</caption>\n",
       "<tr>\n",
       "    <td></td>   <th>            Real</th>  <th>         Imaginary</th> <th>         Modulus</th>  <th>        Frequency</th>\n",
       "</tr>\n",
       "<tr>\n",
       "  <th>AR.1</th> <td>          -2.8023</td> <td>          +0.0000j</td> <td>           2.8023</td> <td>           0.5000</td>\n",
       "</tr>\n",
       "<tr>\n",
       "  <th>MA.1</th> <td>           1.0000</td> <td>          +0.0000j</td> <td>           1.0000</td> <td>           0.0000</td>\n",
       "</tr>\n",
       "<tr>\n",
       "  <th>MA.2</th> <td>          -1.6913</td> <td>          +0.0000j</td> <td>           1.6913</td> <td>           0.5000</td>\n",
       "</tr>\n",
       "</table>"
      ],
      "text/plain": [
       "<class 'statsmodels.iolib.summary.Summary'>\n",
       "\"\"\"\n",
       "                              ARMA Model Results                              \n",
       "==============================================================================\n",
       "Dep. Variable:                  Money   No. Observations:                  238\n",
       "Model:                     ARMA(1, 2)   Log Likelihood               -1117.710\n",
       "Method:                       css-mle   S.D. of innovations             26.215\n",
       "Date:                Fri, 31 Dec 2021   AIC                           2245.421\n",
       "Time:                        01:09:19   BIC                           2262.782\n",
       "Sample:                    03-01-1995   HQIC                          2252.418\n",
       "                         - 12-01-2014                                         \n",
       "===============================================================================\n",
       "                  coef    std err          z      P>|z|      [0.025      0.975]\n",
       "-------------------------------------------------------------------------------\n",
       "const           0.1814      0.029      6.302      0.000       0.125       0.238\n",
       "ar.L1.Money    -0.3569      0.293     -1.217      0.223      -0.931       0.218\n",
       "ma.L1.Money    -0.4087      0.260     -1.572      0.116      -0.918       0.101\n",
       "ma.L2.Money    -0.5912      0.260     -2.278      0.023      -1.100      -0.083\n",
       "                                    Roots                                    \n",
       "=============================================================================\n",
       "                  Real          Imaginary           Modulus         Frequency\n",
       "-----------------------------------------------------------------------------\n",
       "AR.1           -2.8023           +0.0000j            2.8023            0.5000\n",
       "MA.1            1.0000           +0.0000j            1.0000            0.0000\n",
       "MA.2           -1.6913           +0.0000j            1.6913            0.5000\n",
       "-----------------------------------------------------------------------------\n",
       "\"\"\""
      ]
     },
     "execution_count": 43,
     "metadata": {},
     "output_type": "execute_result"
    }
   ],
   "source": [
    "model = ARMA(train['Money'],order=(1,2))\n",
    "results = model.fit()\n",
    "results.summary()"
   ]
  },
  {
   "cell_type": "code",
   "execution_count": 44,
   "metadata": {},
   "outputs": [
    {
     "data": {
      "text/html": [
       "<div>\n",
       "<style scoped>\n",
       "    .dataframe tbody tr th:only-of-type {\n",
       "        vertical-align: middle;\n",
       "    }\n",
       "\n",
       "    .dataframe tbody tr th {\n",
       "        vertical-align: top;\n",
       "    }\n",
       "\n",
       "    .dataframe thead th {\n",
       "        text-align: right;\n",
       "    }\n",
       "</style>\n",
       "<table border=\"1\" class=\"dataframe\">\n",
       "  <thead>\n",
       "    <tr style=\"text-align: right;\">\n",
       "      <th></th>\n",
       "      <th>Money</th>\n",
       "    </tr>\n",
       "  </thead>\n",
       "  <tbody>\n",
       "    <tr>\n",
       "      <th>2015-01-01</th>\n",
       "      <td>-14.498971</td>\n",
       "    </tr>\n",
       "    <tr>\n",
       "      <th>2015-02-01</th>\n",
       "      <td>-10.946915</td>\n",
       "    </tr>\n",
       "    <tr>\n",
       "      <th>2015-03-01</th>\n",
       "      <td>4.152537</td>\n",
       "    </tr>\n",
       "    <tr>\n",
       "      <th>2015-04-01</th>\n",
       "      <td>-1.235707</td>\n",
       "    </tr>\n",
       "    <tr>\n",
       "      <th>2015-05-01</th>\n",
       "      <td>0.687090</td>\n",
       "    </tr>\n",
       "    <tr>\n",
       "      <th>2015-06-01</th>\n",
       "      <td>0.000939</td>\n",
       "    </tr>\n",
       "    <tr>\n",
       "      <th>2015-07-01</th>\n",
       "      <td>0.245792</td>\n",
       "    </tr>\n",
       "    <tr>\n",
       "      <th>2015-08-01</th>\n",
       "      <td>0.158416</td>\n",
       "    </tr>\n",
       "    <tr>\n",
       "      <th>2015-09-01</th>\n",
       "      <td>0.189596</td>\n",
       "    </tr>\n",
       "    <tr>\n",
       "      <th>2015-10-01</th>\n",
       "      <td>0.178470</td>\n",
       "    </tr>\n",
       "    <tr>\n",
       "      <th>2015-11-01</th>\n",
       "      <td>0.182440</td>\n",
       "    </tr>\n",
       "    <tr>\n",
       "      <th>2015-12-01</th>\n",
       "      <td>0.181023</td>\n",
       "    </tr>\n",
       "  </tbody>\n",
       "</table>\n",
       "</div>"
      ],
      "text/plain": [
       "                Money\n",
       "2015-01-01 -14.498971\n",
       "2015-02-01 -10.946915\n",
       "2015-03-01   4.152537\n",
       "2015-04-01  -1.235707\n",
       "2015-05-01   0.687090\n",
       "2015-06-01   0.000939\n",
       "2015-07-01   0.245792\n",
       "2015-08-01   0.158416\n",
       "2015-09-01   0.189596\n",
       "2015-10-01   0.178470\n",
       "2015-11-01   0.182440\n",
       "2015-12-01   0.181023"
      ]
     },
     "execution_count": 44,
     "metadata": {},
     "output_type": "execute_result"
    }
   ],
   "source": [
    "start=len(train)\n",
    "end=len(train)+len(test)-1\n",
    "z1 = results.predict(start=start, end=end).rename('Money')\n",
    "z1 = pd.DataFrame(z1)\n",
    "z1"
   ]
  },
  {
   "cell_type": "markdown",
   "metadata": {},
   "source": [
    "**Invert the Transformation, Evaluate the Forecast**"
   ]
  },
  {
   "cell_type": "code",
   "execution_count": 45,
   "metadata": {},
   "outputs": [
    {
     "data": {
      "text/html": [
       "<div>\n",
       "<style scoped>\n",
       "    .dataframe tbody tr th:only-of-type {\n",
       "        vertical-align: middle;\n",
       "    }\n",
       "\n",
       "    .dataframe tbody tr th {\n",
       "        vertical-align: top;\n",
       "    }\n",
       "\n",
       "    .dataframe thead th {\n",
       "        text-align: right;\n",
       "    }\n",
       "</style>\n",
       "<table border=\"1\" class=\"dataframe\">\n",
       "  <thead>\n",
       "    <tr style=\"text-align: right;\">\n",
       "      <th></th>\n",
       "      <th>Money</th>\n",
       "      <th>Money1d</th>\n",
       "      <th>MoneyForecast</th>\n",
       "    </tr>\n",
       "  </thead>\n",
       "  <tbody>\n",
       "    <tr>\n",
       "      <th>2015-01-01</th>\n",
       "      <td>-14.498971</td>\n",
       "      <td>64.101029</td>\n",
       "      <td>11734.201029</td>\n",
       "    </tr>\n",
       "    <tr>\n",
       "      <th>2015-02-01</th>\n",
       "      <td>-10.946915</td>\n",
       "      <td>53.154114</td>\n",
       "      <td>11787.355142</td>\n",
       "    </tr>\n",
       "    <tr>\n",
       "      <th>2015-03-01</th>\n",
       "      <td>4.152537</td>\n",
       "      <td>57.306651</td>\n",
       "      <td>11844.661793</td>\n",
       "    </tr>\n",
       "    <tr>\n",
       "      <th>2015-04-01</th>\n",
       "      <td>-1.235707</td>\n",
       "      <td>56.070944</td>\n",
       "      <td>11900.732737</td>\n",
       "    </tr>\n",
       "    <tr>\n",
       "      <th>2015-05-01</th>\n",
       "      <td>0.687090</td>\n",
       "      <td>56.758034</td>\n",
       "      <td>11957.490771</td>\n",
       "    </tr>\n",
       "    <tr>\n",
       "      <th>2015-06-01</th>\n",
       "      <td>0.000939</td>\n",
       "      <td>56.758973</td>\n",
       "      <td>12014.249744</td>\n",
       "    </tr>\n",
       "    <tr>\n",
       "      <th>2015-07-01</th>\n",
       "      <td>0.245792</td>\n",
       "      <td>57.004765</td>\n",
       "      <td>12071.254510</td>\n",
       "    </tr>\n",
       "    <tr>\n",
       "      <th>2015-08-01</th>\n",
       "      <td>0.158416</td>\n",
       "      <td>57.163182</td>\n",
       "      <td>12128.417691</td>\n",
       "    </tr>\n",
       "    <tr>\n",
       "      <th>2015-09-01</th>\n",
       "      <td>0.189596</td>\n",
       "      <td>57.352778</td>\n",
       "      <td>12185.770469</td>\n",
       "    </tr>\n",
       "    <tr>\n",
       "      <th>2015-10-01</th>\n",
       "      <td>0.178470</td>\n",
       "      <td>57.531248</td>\n",
       "      <td>12243.301717</td>\n",
       "    </tr>\n",
       "    <tr>\n",
       "      <th>2015-11-01</th>\n",
       "      <td>0.182440</td>\n",
       "      <td>57.713688</td>\n",
       "      <td>12301.015405</td>\n",
       "    </tr>\n",
       "    <tr>\n",
       "      <th>2015-12-01</th>\n",
       "      <td>0.181023</td>\n",
       "      <td>57.894712</td>\n",
       "      <td>12358.910117</td>\n",
       "    </tr>\n",
       "  </tbody>\n",
       "</table>\n",
       "</div>"
      ],
      "text/plain": [
       "                Money    Money1d  MoneyForecast\n",
       "2015-01-01 -14.498971  64.101029   11734.201029\n",
       "2015-02-01 -10.946915  53.154114   11787.355142\n",
       "2015-03-01   4.152537  57.306651   11844.661793\n",
       "2015-04-01  -1.235707  56.070944   11900.732737\n",
       "2015-05-01   0.687090  56.758034   11957.490771\n",
       "2015-06-01   0.000939  56.758973   12014.249744\n",
       "2015-07-01   0.245792  57.004765   12071.254510\n",
       "2015-08-01   0.158416  57.163182   12128.417691\n",
       "2015-09-01   0.189596  57.352778   12185.770469\n",
       "2015-10-01   0.178470  57.531248   12243.301717\n",
       "2015-11-01   0.182440  57.713688   12301.015405\n",
       "2015-12-01   0.181023  57.894712   12358.910117"
      ]
     },
     "execution_count": 45,
     "metadata": {},
     "output_type": "execute_result"
    }
   ],
   "source": [
    "# Add the most recent first difference from the training set to the forecast cumulative sum\n",
    "z1['Money1d'] = (df['Money'].iloc[-nobs-1]-df['Money'].iloc[-nobs-2]) + z1['Money'].cumsum()\n",
    "\n",
    "# Now build the forecast values from the first difference set\n",
    "z1['MoneyForecast'] = df['Money'].iloc[-nobs-1] + z1['Money1d'].cumsum()\n",
    "\n",
    "z1"
   ]
  },
  {
   "cell_type": "code",
   "execution_count": 47,
   "metadata": {},
   "outputs": [
    {
     "name": "stdout",
     "output_type": "stream",
     "text": [
      "Money VARMA(1,2) RMSE: 423.722\n",
      "Money  ARMA(1,2) RMSE: 32.236\n"
     ]
    }
   ],
   "source": [
    "RMSE3 = rmse(df['Money'][-nobs:], z1['MoneyForecast'])\n",
    "\n",
    "print(f'Money VARMA(1,2) RMSE: {rmse1:.3f}')\n",
    "print(f'Money  ARMA(1,2) RMSE: {RMSE3:.3f}')"
   ]
  },
  {
   "cell_type": "markdown",
   "metadata": {},
   "source": [
    "## Personal Spending"
   ]
  },
  {
   "cell_type": "code",
   "execution_count": 48,
   "metadata": {},
   "outputs": [
    {
     "name": "stderr",
     "output_type": "stream",
     "text": [
      "C:\\Users\\nevishwakarma\\AppData\\Local\\Programs\\Python\\Python38\\lib\\site-packages\\statsmodels\\tsa\\arima_model.py:472: FutureWarning: \n",
      "statsmodels.tsa.arima_model.ARMA and statsmodels.tsa.arima_model.ARIMA have\n",
      "been deprecated in favor of statsmodels.tsa.arima.model.ARIMA (note the .\n",
      "between arima and model) and\n",
      "statsmodels.tsa.SARIMAX. These will be removed after the 0.12 release.\n",
      "\n",
      "statsmodels.tsa.arima.model.ARIMA makes use of the statespace framework and\n",
      "is both well tested and maintained.\n",
      "\n",
      "To silence this warning and continue using ARMA and ARIMA until they are\n",
      "removed, use:\n",
      "\n",
      "import warnings\n",
      "warnings.filterwarnings('ignore', 'statsmodels.tsa.arima_model.ARMA',\n",
      "                        FutureWarning)\n",
      "warnings.filterwarnings('ignore', 'statsmodels.tsa.arima_model.ARIMA',\n",
      "                        FutureWarning)\n",
      "\n",
      "  warnings.warn(ARIMA_DEPRECATION_WARN, FutureWarning)\n"
     ]
    },
    {
     "data": {
      "text/html": [
       "<table class=\"simpletable\">\n",
       "<caption>ARMA Model Results</caption>\n",
       "<tr>\n",
       "  <th>Dep. Variable:</th>     <td>Spending</td>     <th>  No. Observations:  </th>    <td>238</td>   \n",
       "</tr>\n",
       "<tr>\n",
       "  <th>Model:</th>            <td>ARMA(1, 2)</td>    <th>  Log Likelihood     </th> <td>-1182.411</td>\n",
       "</tr>\n",
       "<tr>\n",
       "  <th>Method:</th>             <td>css-mle</td>     <th>  S.D. of innovations</th>  <td>34.661</td>  \n",
       "</tr>\n",
       "<tr>\n",
       "  <th>Date:</th>          <td>Fri, 31 Dec 2021</td> <th>  AIC                </th> <td>2374.823</td> \n",
       "</tr>\n",
       "<tr>\n",
       "  <th>Time:</th>              <td>01:10:41</td>     <th>  BIC                </th> <td>2392.184</td> \n",
       "</tr>\n",
       "<tr>\n",
       "  <th>Sample:</th>           <td>03-01-1995</td>    <th>  HQIC               </th> <td>2381.820</td> \n",
       "</tr>\n",
       "<tr>\n",
       "  <th></th>                 <td>- 12-01-2014</td>   <th>                     </th>     <td> </td>    \n",
       "</tr>\n",
       "</table>\n",
       "<table class=\"simpletable\">\n",
       "<tr>\n",
       "         <td></td>           <th>coef</th>     <th>std err</th>      <th>z</th>      <th>P>|z|</th>  <th>[0.025</th>    <th>0.975]</th>  \n",
       "</tr>\n",
       "<tr>\n",
       "  <th>const</th>          <td>    0.0856</td> <td>    0.245</td> <td>    0.350</td> <td> 0.726</td> <td>   -0.394</td> <td>    0.565</td>\n",
       "</tr>\n",
       "<tr>\n",
       "  <th>ar.L1.Spending</th> <td>   -0.3403</td> <td>    0.511</td> <td>   -0.666</td> <td> 0.505</td> <td>   -1.342</td> <td>    0.661</td>\n",
       "</tr>\n",
       "<tr>\n",
       "  <th>ma.L1.Spending</th> <td>   -0.6451</td> <td>    0.521</td> <td>   -1.237</td> <td> 0.216</td> <td>   -1.667</td> <td>    0.377</td>\n",
       "</tr>\n",
       "<tr>\n",
       "  <th>ma.L2.Spending</th> <td>   -0.2139</td> <td>    0.485</td> <td>   -0.441</td> <td> 0.659</td> <td>   -1.165</td> <td>    0.737</td>\n",
       "</tr>\n",
       "</table>\n",
       "<table class=\"simpletable\">\n",
       "<caption>Roots</caption>\n",
       "<tr>\n",
       "    <td></td>   <th>            Real</th>  <th>         Imaginary</th> <th>         Modulus</th>  <th>        Frequency</th>\n",
       "</tr>\n",
       "<tr>\n",
       "  <th>AR.1</th> <td>          -2.9388</td> <td>          +0.0000j</td> <td>           2.9388</td> <td>           0.5000</td>\n",
       "</tr>\n",
       "<tr>\n",
       "  <th>MA.1</th> <td>           1.1281</td> <td>          +0.0000j</td> <td>           1.1281</td> <td>           0.0000</td>\n",
       "</tr>\n",
       "<tr>\n",
       "  <th>MA.2</th> <td>          -4.1439</td> <td>          +0.0000j</td> <td>           4.1439</td> <td>           0.5000</td>\n",
       "</tr>\n",
       "</table>"
      ],
      "text/plain": [
       "<class 'statsmodels.iolib.summary.Summary'>\n",
       "\"\"\"\n",
       "                              ARMA Model Results                              \n",
       "==============================================================================\n",
       "Dep. Variable:               Spending   No. Observations:                  238\n",
       "Model:                     ARMA(1, 2)   Log Likelihood               -1182.411\n",
       "Method:                       css-mle   S.D. of innovations             34.661\n",
       "Date:                Fri, 31 Dec 2021   AIC                           2374.823\n",
       "Time:                        01:10:41   BIC                           2392.184\n",
       "Sample:                    03-01-1995   HQIC                          2381.820\n",
       "                         - 12-01-2014                                         \n",
       "==================================================================================\n",
       "                     coef    std err          z      P>|z|      [0.025      0.975]\n",
       "----------------------------------------------------------------------------------\n",
       "const              0.0856      0.245      0.350      0.726      -0.394       0.565\n",
       "ar.L1.Spending    -0.3403      0.511     -0.666      0.505      -1.342       0.661\n",
       "ma.L1.Spending    -0.6451      0.521     -1.237      0.216      -1.667       0.377\n",
       "ma.L2.Spending    -0.2139      0.485     -0.441      0.659      -1.165       0.737\n",
       "                                    Roots                                    \n",
       "=============================================================================\n",
       "                  Real          Imaginary           Modulus         Frequency\n",
       "-----------------------------------------------------------------------------\n",
       "AR.1           -2.9388           +0.0000j            2.9388            0.5000\n",
       "MA.1            1.1281           +0.0000j            1.1281            0.0000\n",
       "MA.2           -4.1439           +0.0000j            4.1439            0.5000\n",
       "-----------------------------------------------------------------------------\n",
       "\"\"\""
      ]
     },
     "execution_count": 48,
     "metadata": {},
     "output_type": "execute_result"
    }
   ],
   "source": [
    "model = ARMA(train['Spending'],order=(1,2))\n",
    "results = model.fit()\n",
    "results.summary()"
   ]
  },
  {
   "cell_type": "code",
   "execution_count": 49,
   "metadata": {},
   "outputs": [
    {
     "data": {
      "text/html": [
       "<div>\n",
       "<style scoped>\n",
       "    .dataframe tbody tr th:only-of-type {\n",
       "        vertical-align: middle;\n",
       "    }\n",
       "\n",
       "    .dataframe tbody tr th {\n",
       "        vertical-align: top;\n",
       "    }\n",
       "\n",
       "    .dataframe thead th {\n",
       "        text-align: right;\n",
       "    }\n",
       "</style>\n",
       "<table border=\"1\" class=\"dataframe\">\n",
       "  <thead>\n",
       "    <tr style=\"text-align: right;\">\n",
       "      <th></th>\n",
       "      <th>Spending</th>\n",
       "    </tr>\n",
       "  </thead>\n",
       "  <tbody>\n",
       "    <tr>\n",
       "      <th>2015-01-01</th>\n",
       "      <td>33.555855</td>\n",
       "    </tr>\n",
       "    <tr>\n",
       "      <th>2015-02-01</th>\n",
       "      <td>-3.338259</td>\n",
       "    </tr>\n",
       "    <tr>\n",
       "      <th>2015-03-01</th>\n",
       "      <td>1.250695</td>\n",
       "    </tr>\n",
       "    <tr>\n",
       "      <th>2015-04-01</th>\n",
       "      <td>-0.310824</td>\n",
       "    </tr>\n",
       "    <tr>\n",
       "      <th>2015-05-01</th>\n",
       "      <td>0.220526</td>\n",
       "    </tr>\n",
       "    <tr>\n",
       "      <th>2015-06-01</th>\n",
       "      <td>0.039719</td>\n",
       "    </tr>\n",
       "    <tr>\n",
       "      <th>2015-07-01</th>\n",
       "      <td>0.101244</td>\n",
       "    </tr>\n",
       "    <tr>\n",
       "      <th>2015-08-01</th>\n",
       "      <td>0.080309</td>\n",
       "    </tr>\n",
       "    <tr>\n",
       "      <th>2015-09-01</th>\n",
       "      <td>0.087432</td>\n",
       "    </tr>\n",
       "    <tr>\n",
       "      <th>2015-10-01</th>\n",
       "      <td>0.085008</td>\n",
       "    </tr>\n",
       "    <tr>\n",
       "      <th>2015-11-01</th>\n",
       "      <td>0.085833</td>\n",
       "    </tr>\n",
       "    <tr>\n",
       "      <th>2015-12-01</th>\n",
       "      <td>0.085552</td>\n",
       "    </tr>\n",
       "  </tbody>\n",
       "</table>\n",
       "</div>"
      ],
      "text/plain": [
       "             Spending\n",
       "2015-01-01  33.555855\n",
       "2015-02-01  -3.338259\n",
       "2015-03-01   1.250695\n",
       "2015-04-01  -0.310824\n",
       "2015-05-01   0.220526\n",
       "2015-06-01   0.039719\n",
       "2015-07-01   0.101244\n",
       "2015-08-01   0.080309\n",
       "2015-09-01   0.087432\n",
       "2015-10-01   0.085008\n",
       "2015-11-01   0.085833\n",
       "2015-12-01   0.085552"
      ]
     },
     "execution_count": 49,
     "metadata": {},
     "output_type": "execute_result"
    }
   ],
   "source": [
    "start=len(train)\n",
    "end=len(train)+len(test)-1\n",
    "z2 = results.predict(start=start, end=end).rename('Spending')\n",
    "z2 = pd.DataFrame(z2)\n",
    "z2"
   ]
  },
  {
   "cell_type": "markdown",
   "metadata": {},
   "source": [
    "**Invert the Transformation, Evaluate the Forecast**"
   ]
  },
  {
   "cell_type": "code",
   "execution_count": 51,
   "metadata": {},
   "outputs": [
    {
     "data": {
      "text/html": [
       "<div>\n",
       "<style scoped>\n",
       "    .dataframe tbody tr th:only-of-type {\n",
       "        vertical-align: middle;\n",
       "    }\n",
       "\n",
       "    .dataframe tbody tr th {\n",
       "        vertical-align: top;\n",
       "    }\n",
       "\n",
       "    .dataframe thead th {\n",
       "        text-align: right;\n",
       "    }\n",
       "</style>\n",
       "<table border=\"1\" class=\"dataframe\">\n",
       "  <thead>\n",
       "    <tr style=\"text-align: right;\">\n",
       "      <th></th>\n",
       "      <th>Spending</th>\n",
       "      <th>Spending1d</th>\n",
       "      <th>SpendingForecast</th>\n",
       "    </tr>\n",
       "  </thead>\n",
       "  <tbody>\n",
       "    <tr>\n",
       "      <th>2015-01-01</th>\n",
       "      <td>33.555855</td>\n",
       "      <td>44.155855</td>\n",
       "      <td>12106.155855</td>\n",
       "    </tr>\n",
       "    <tr>\n",
       "      <th>2015-02-01</th>\n",
       "      <td>-3.338259</td>\n",
       "      <td>40.817596</td>\n",
       "      <td>12146.973450</td>\n",
       "    </tr>\n",
       "    <tr>\n",
       "      <th>2015-03-01</th>\n",
       "      <td>1.250695</td>\n",
       "      <td>42.068291</td>\n",
       "      <td>12189.041741</td>\n",
       "    </tr>\n",
       "    <tr>\n",
       "      <th>2015-04-01</th>\n",
       "      <td>-0.310824</td>\n",
       "      <td>41.757467</td>\n",
       "      <td>12230.799208</td>\n",
       "    </tr>\n",
       "    <tr>\n",
       "      <th>2015-05-01</th>\n",
       "      <td>0.220526</td>\n",
       "      <td>41.977993</td>\n",
       "      <td>12272.777201</td>\n",
       "    </tr>\n",
       "    <tr>\n",
       "      <th>2015-06-01</th>\n",
       "      <td>0.039719</td>\n",
       "      <td>42.017712</td>\n",
       "      <td>12314.794913</td>\n",
       "    </tr>\n",
       "    <tr>\n",
       "      <th>2015-07-01</th>\n",
       "      <td>0.101244</td>\n",
       "      <td>42.118956</td>\n",
       "      <td>12356.913869</td>\n",
       "    </tr>\n",
       "    <tr>\n",
       "      <th>2015-08-01</th>\n",
       "      <td>0.080309</td>\n",
       "      <td>42.199265</td>\n",
       "      <td>12399.113134</td>\n",
       "    </tr>\n",
       "    <tr>\n",
       "      <th>2015-09-01</th>\n",
       "      <td>0.087432</td>\n",
       "      <td>42.286697</td>\n",
       "      <td>12441.399831</td>\n",
       "    </tr>\n",
       "    <tr>\n",
       "      <th>2015-10-01</th>\n",
       "      <td>0.085008</td>\n",
       "      <td>42.371705</td>\n",
       "      <td>12483.771537</td>\n",
       "    </tr>\n",
       "    <tr>\n",
       "      <th>2015-11-01</th>\n",
       "      <td>0.085833</td>\n",
       "      <td>42.457539</td>\n",
       "      <td>12526.229075</td>\n",
       "    </tr>\n",
       "    <tr>\n",
       "      <th>2015-12-01</th>\n",
       "      <td>0.085552</td>\n",
       "      <td>42.543091</td>\n",
       "      <td>12568.772166</td>\n",
       "    </tr>\n",
       "  </tbody>\n",
       "</table>\n",
       "</div>"
      ],
      "text/plain": [
       "             Spending  Spending1d  SpendingForecast\n",
       "2015-01-01  33.555855   44.155855      12106.155855\n",
       "2015-02-01  -3.338259   40.817596      12146.973450\n",
       "2015-03-01   1.250695   42.068291      12189.041741\n",
       "2015-04-01  -0.310824   41.757467      12230.799208\n",
       "2015-05-01   0.220526   41.977993      12272.777201\n",
       "2015-06-01   0.039719   42.017712      12314.794913\n",
       "2015-07-01   0.101244   42.118956      12356.913869\n",
       "2015-08-01   0.080309   42.199265      12399.113134\n",
       "2015-09-01   0.087432   42.286697      12441.399831\n",
       "2015-10-01   0.085008   42.371705      12483.771537\n",
       "2015-11-01   0.085833   42.457539      12526.229075\n",
       "2015-12-01   0.085552   42.543091      12568.772166"
      ]
     },
     "execution_count": 51,
     "metadata": {},
     "output_type": "execute_result"
    }
   ],
   "source": [
    "# Add the most recent first difference from the training set to the forecast cumulative sum\n",
    "z2['Spending1d'] = (df['Spending'].iloc[-nobs-1]-df['Spending'].iloc[-nobs-2]) + z2['Spending'].cumsum()\n",
    "\n",
    "# Now build the forecast values from the first difference set\n",
    "z2['SpendingForecast'] = df['Spending'].iloc[-nobs-1] + z2['Spending1d'].cumsum()\n",
    "\n",
    "z2"
   ]
  },
  {
   "cell_type": "code",
   "execution_count": 52,
   "metadata": {},
   "outputs": [
    {
     "name": "stdout",
     "output_type": "stream",
     "text": [
      "Spending VARMA(1,2) RMSE: 242.164\n",
      "Spending  ARMA(1,2) RMSE: 52.334\n"
     ]
    }
   ],
   "source": [
    "RMSE4 = rmse(df['Spending'][-nobs:], z2['SpendingForecast'])\n",
    "\n",
    "print(f'Spending VARMA(1,2) RMSE: {rmse2:.3f}')\n",
    "print(f'Spending  ARMA(1,2) RMSE: {RMSE4:.3f}')"
   ]
  },
  {
   "cell_type": "markdown",
   "metadata": {},
   "source": [
    "<strong>CONCLUSION:</strong> It looks like the VARMA(1,2) model did a relatively poor job compared to simpler alternatives. This tells us that there is little or no interdepence between Money Stock and Personal Consumption Expenditures, at least for the timespan we investigated. This is helpful! By fitting a model and getting poor results we know more about the data than we did before."
   ]
  }
 ],
 "metadata": {
  "interpreter": {
   "hash": "23b3ef45bc6666d616e53a5695b9fbdcbc2f6ae61b72dd83b61aa80da4869d7d"
  },
  "kernelspec": {
   "display_name": "Python 3.8.6 64-bit",
   "language": "python",
   "name": "python3"
  },
  "language_info": {
   "codemirror_mode": {
    "name": "ipython",
    "version": 3
   },
   "file_extension": ".py",
   "mimetype": "text/x-python",
   "name": "python",
   "nbconvert_exporter": "python",
   "pygments_lexer": "ipython3",
   "version": "3.8.6"
  },
  "orig_nbformat": 4
 },
 "nbformat": 4,
 "nbformat_minor": 2
}
