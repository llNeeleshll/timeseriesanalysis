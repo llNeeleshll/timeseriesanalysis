{
 "cells": [
  {
   "cell_type": "markdown",
   "metadata": {},
   "source": [
    "## **Non Seasonal ARIMA Model**\n",
    "\n",
    "To Successfully apply <tt>ARIMA Model</tt> to the timeseries, the timeseries should be stationary. A Stationary timeseries haa the following properties.\n",
    "\n",
    "1. The Mean of the series should not be a function of time.\n",
    "2. the Variance of the series should not be a function of time.\n",
    "3. the co-Variance of the series shopuld also not the be the function of time.\n",
    "\n",
    "A test, <i>Augmented Dickey-fuller</i> test can be performed on the series to check for the stationarity. \n",
    "\n",
    "Once we've established that the timeseries is non-stationary. We can start by making it stationary. This can be done through <tt>differencing.</tt> The idea behind differencing is the shift the series by 1 and take the difference with the original series. We can continue with this process untill we get some series which is stationary.  An ARIMA model consistes of three terms <tt>AR (Autoregression)</tt>, <tt>I (Integrated)</tt> and <tt>MA (Moving Average)</tt>. We represent these terms with the coefficients <tt>P,D & Q</tt>.\n",
    "\n",
    "1. <u>**P = ORDER OF AR :**</u> p = 3 means that the Sales of Dec, Sales<sub>Dec</sub> depends on past 3 period i.e. Sales<sub>Nov</sub> , Sales<sub>Oct</sub> & Sales<sub>Sep</sub><br/>\n",
    "the Sales of Nov, Sales<sub>Nov</sub> depends on past 3 period i.e. Sales<sub>Oct</sub> , Sales<sub>Sep</sub> & Sales<sub>Aug</sub><br/>\n",
    "\n",
    "    P values can be found using PACF plots.\n",
    "\n",
    "2. <u>**Moving Average :**</u> The y<sub>t</sub> has the effects of the previous error terms in it.\n",
    "\n",
    "    y<sub>t</sub> = a + E<sub>t</sub> + b<sub>1</sub>E<sub>t-1</sub> + b<sub>2</sub>E<sub>t-2</sub>\n",
    "\n",
    "    **Q = ORDER OF MA**\n",
    "\n",
    "    Q values can be found using ACF plots.\n",
    "\n",
    "3. <u>**Integrated ~~ Differenced :**</u> We take the difference of the value with it's previous values.\n",
    "\n",
    "    DIFF<SUB>t</SUB> = Y<sub>t</sub> - Y<sub>t-1<sub> \n",
    "\n",
    "    **D = ORDER OF Difference** : This removes the effect of <u>**trends**</u> and <u>**seasonality**</u> form the series. The value D describes how many times we take the difference of the series."
   ]
  },
  {
   "cell_type": "markdown",
   "metadata": {},
   "source": [
    "## **AR (AutoRegression) Component**"
   ]
  },
  {
   "cell_type": "markdown",
   "metadata": {},
   "source": [
    "We're going to start with a simplified model having <tt>D and Q</tt> as 0. this will give us the pure <tt>Autoregressive model</tt>. \n",
    "\n",
    "The <tt>Autoregression</tt> tells us how a value of the timeseries at time <tt>t</tt> is linearly related to its past values.\n",
    "\n",
    "### $y_t = c + \\phi_1y_{t-1} + \\phi_2y_{t-2} + ... + \\phi_py_{t-p} +  \\epsilon_t$ \n",
    "here,\n",
    "\n",
    "### $ c $ : Is the constant\n",
    "### $ \\phi_1,\\phi_2 $ : Are the lag coefficient upto order <i>p</i>\n",
    "### $ \\epsilon_t $ : Is the white noise\n",
    "\n",
    "The number of the time lag for the dependency would be the orders of the AR model. For eg. <tt>AR(1)</tt> model would be :\n",
    "\n",
    "### $y_t = c + \\phi_1y_{t-1} +  \\epsilon_t$\n",
    "\n",
    "<tt>AR(2)</tt> model would be :\n",
    "\n",
    "### $y_t = c + \\phi_1y_{t-1} + \\phi_2y_{t-2} +  \\epsilon_t$\n",
    "\n",
    "The general form of this equation would be :\n",
    "\n",
    "### $X_t = c + \\sum\\limits_{i=1}^p\\phi_iX_{t-i} +  \\epsilon_t$\n",
    "\n",
    "The more the order we use, more accurate prediction would be, but there is a limit after which the result may deteriorate as we might be picking up more noise than the informations."
   ]
  },
  {
   "cell_type": "markdown",
   "metadata": {},
   "source": [
    "## **MA (Moving Average) Component**\n",
    "\n",
    "We're going to start with a simplified model having <tt>P and D</tt> as 0. This will give us the pure <tt>Moving Average model</tt>. \n",
    "\n",
    "The <tt>Moving Average</tt> tells us how the errors between the values calculated using moving average and the real values of the timeseries at time <tt>t</tt> are linearly related.\n",
    "\n",
    "i.e.\n",
    "\n",
    "### $\\epsilon_t = Real_t - Ma_t$\n",
    "\n",
    "### $ X_t = \\mu + \\epsilon_t + \\theta_1\\epsilon_{t-1} + \\theta_2\\epsilon_{t-2} + ... + \\theta_q\\epsilon_{t-q}$\n",
    "\n",
    "The general form of this equation would be :\n",
    "\n",
    "### $X_t = \\mu + \\epsilon_t + \\sum\\limits_{i=1}^q\\theta_i\\epsilon_{t-i}$\n",
    "\n",
    "So, hte value of <tt>Q</tt> specifies how many lagged values we need to consider while calculating the Moving Average component."
   ]
  },
  {
   "cell_type": "markdown",
   "metadata": {},
   "source": [
    "## **I (Integrated) Component**\n",
    "\n",
    "We're going to start with a simplified model having <tt>P and Q</tt> as 0. This will give us the pure <tt>Integrated model</tt>. \n",
    "\n",
    "The <tt>Integrated</tt> tells us that the data values have been replaced with the difference between their values at time <tt>t</tt> and the previous values at time <tt>t-1</tt>\n",
    "\n",
    "### $X_t - X_{t-1}$\n",
    "\n",
    "<hr/>"
   ]
  },
  {
   "cell_type": "markdown",
   "metadata": {},
   "source": [
    "From the AR and MA equation we have\n",
    "\n",
    "### $X_t = c + \\epsilon_t + \\sum\\limits_{i=1}^p\\phi_iX_{t-i} + \\sum\\limits_{i=1}^q\\theta_i\\epsilon_{t-i}$\n",
    "\n",
    "we can write this equation as,\n",
    "\n",
    "### $c"
   ]
  },
  {
   "cell_type": "markdown",
   "metadata": {},
   "source": [
    "Let's now see how to use <tt>auto_arima</tt>."
   ]
  },
  {
   "cell_type": "code",
   "execution_count": 1,
   "metadata": {},
   "outputs": [],
   "source": [
    "import pandas as pd\n",
    "import numpy as np"
   ]
  },
  {
   "cell_type": "code",
   "execution_count": 2,
   "metadata": {},
   "outputs": [
    {
     "data": {
      "text/html": [
       "<div>\n",
       "<style scoped>\n",
       "    .dataframe tbody tr th:only-of-type {\n",
       "        vertical-align: middle;\n",
       "    }\n",
       "\n",
       "    .dataframe tbody tr th {\n",
       "        vertical-align: top;\n",
       "    }\n",
       "\n",
       "    .dataframe thead th {\n",
       "        text-align: right;\n",
       "    }\n",
       "</style>\n",
       "<table border=\"1\" class=\"dataframe\">\n",
       "  <thead>\n",
       "    <tr style=\"text-align: right;\">\n",
       "      <th></th>\n",
       "      <th>Thousands of Passengers</th>\n",
       "    </tr>\n",
       "    <tr>\n",
       "      <th>Month</th>\n",
       "      <th></th>\n",
       "    </tr>\n",
       "  </thead>\n",
       "  <tbody>\n",
       "    <tr>\n",
       "      <th>1949-01-01</th>\n",
       "      <td>112</td>\n",
       "    </tr>\n",
       "    <tr>\n",
       "      <th>1949-02-01</th>\n",
       "      <td>118</td>\n",
       "    </tr>\n",
       "    <tr>\n",
       "      <th>1949-03-01</th>\n",
       "      <td>132</td>\n",
       "    </tr>\n",
       "    <tr>\n",
       "      <th>1949-04-01</th>\n",
       "      <td>129</td>\n",
       "    </tr>\n",
       "    <tr>\n",
       "      <th>1949-05-01</th>\n",
       "      <td>121</td>\n",
       "    </tr>\n",
       "  </tbody>\n",
       "</table>\n",
       "</div>"
      ],
      "text/plain": [
       "            Thousands of Passengers\n",
       "Month                              \n",
       "1949-01-01                      112\n",
       "1949-02-01                      118\n",
       "1949-03-01                      132\n",
       "1949-04-01                      129\n",
       "1949-05-01                      121"
      ]
     },
     "execution_count": 2,
     "metadata": {},
     "output_type": "execute_result"
    }
   ],
   "source": [
    "df1 = pd.read_csv(r'C:\\Users\\nevishwakarma\\Documents\\Datasets\\Data_Udemy\\airline_passengers.csv', index_col=['Month'], parse_dates=True)\n",
    "df1.index.freq = 'MS'\n",
    "df1.head()"
   ]
  },
  {
   "cell_type": "code",
   "execution_count": 3,
   "metadata": {},
   "outputs": [
    {
     "data": {
      "text/html": [
       "<div>\n",
       "<style scoped>\n",
       "    .dataframe tbody tr th:only-of-type {\n",
       "        vertical-align: middle;\n",
       "    }\n",
       "\n",
       "    .dataframe tbody tr th {\n",
       "        vertical-align: top;\n",
       "    }\n",
       "\n",
       "    .dataframe thead th {\n",
       "        text-align: right;\n",
       "    }\n",
       "</style>\n",
       "<table border=\"1\" class=\"dataframe\">\n",
       "  <thead>\n",
       "    <tr style=\"text-align: right;\">\n",
       "      <th></th>\n",
       "      <th>Births</th>\n",
       "    </tr>\n",
       "    <tr>\n",
       "      <th>Date</th>\n",
       "      <th></th>\n",
       "    </tr>\n",
       "  </thead>\n",
       "  <tbody>\n",
       "    <tr>\n",
       "      <th>1959-01-01</th>\n",
       "      <td>35</td>\n",
       "    </tr>\n",
       "    <tr>\n",
       "      <th>1959-01-02</th>\n",
       "      <td>32</td>\n",
       "    </tr>\n",
       "    <tr>\n",
       "      <th>1959-01-03</th>\n",
       "      <td>30</td>\n",
       "    </tr>\n",
       "    <tr>\n",
       "      <th>1959-01-04</th>\n",
       "      <td>31</td>\n",
       "    </tr>\n",
       "    <tr>\n",
       "      <th>1959-01-05</th>\n",
       "      <td>44</td>\n",
       "    </tr>\n",
       "  </tbody>\n",
       "</table>\n",
       "</div>"
      ],
      "text/plain": [
       "            Births\n",
       "Date              \n",
       "1959-01-01      35\n",
       "1959-01-02      32\n",
       "1959-01-03      30\n",
       "1959-01-04      31\n",
       "1959-01-05      44"
      ]
     },
     "execution_count": 3,
     "metadata": {},
     "output_type": "execute_result"
    }
   ],
   "source": [
    "df2 = pd.read_csv(r'C:\\Users\\nevishwakarma\\Documents\\Datasets\\Data_Udemy\\DailyTotalFemaleBirths.csv', index_col=['Date'], parse_dates=True)\n",
    "df2.index.freq = 'D'\n",
    "df2.head()"
   ]
  },
  {
   "cell_type": "markdown",
   "metadata": {},
   "source": [
    "Since it would be very difficult to choose values of <tt>P, M, D</tt> we use <tt>auto_arima</tt> to automatically figure out the best values. We're not splitting the dataset here as we're focussed on auto_arima and not the forcasting evaluation per se.\n",
    "\n",
    "**Stationary Dataset**"
   ]
  },
  {
   "cell_type": "code",
   "execution_count": 4,
   "metadata": {},
   "outputs": [],
   "source": [
    "from pmdarima import auto_arima"
   ]
  },
  {
   "cell_type": "code",
   "execution_count": 5,
   "metadata": {},
   "outputs": [
    {
     "name": "stdout",
     "output_type": "stream",
     "text": [
      "Performing stepwise search to minimize aic\n",
      " ARIMA(0,1,0)(0,0,0)[0] intercept   : AIC=2650.760, Time=0.03 sec\n",
      " ARIMA(1,1,0)(0,0,0)[0] intercept   : AIC=2565.234, Time=0.07 sec\n",
      " ARIMA(0,1,1)(0,0,0)[0] intercept   : AIC=2463.584, Time=0.08 sec\n",
      " ARIMA(0,1,0)(0,0,0)[0]             : AIC=2648.768, Time=0.01 sec\n",
      " ARIMA(1,1,1)(0,0,0)[0] intercept   : AIC=2460.154, Time=0.15 sec\n",
      " ARIMA(2,1,1)(0,0,0)[0] intercept   : AIC=2461.271, Time=0.18 sec\n",
      " ARIMA(1,1,2)(0,0,0)[0] intercept   : AIC=inf, Time=0.38 sec\n",
      " ARIMA(0,1,2)(0,0,0)[0] intercept   : AIC=2460.722, Time=0.14 sec\n",
      " ARIMA(2,1,0)(0,0,0)[0] intercept   : AIC=2536.154, Time=0.10 sec\n",
      " ARIMA(2,1,2)(0,0,0)[0] intercept   : AIC=2463.040, Time=0.49 sec\n",
      " ARIMA(1,1,1)(0,0,0)[0]             : AIC=2459.074, Time=0.05 sec\n",
      " ARIMA(0,1,1)(0,0,0)[0]             : AIC=2462.221, Time=0.03 sec\n",
      " ARIMA(1,1,0)(0,0,0)[0]             : AIC=2563.261, Time=0.02 sec\n",
      " ARIMA(2,1,1)(0,0,0)[0]             : AIC=2460.367, Time=0.10 sec\n",
      " ARIMA(1,1,2)(0,0,0)[0]             : AIC=2460.427, Time=0.15 sec\n",
      " ARIMA(0,1,2)(0,0,0)[0]             : AIC=2459.571, Time=0.04 sec\n",
      " ARIMA(2,1,0)(0,0,0)[0]             : AIC=2534.205, Time=0.03 sec\n",
      " ARIMA(2,1,2)(0,0,0)[0]             : AIC=2462.366, Time=0.25 sec\n",
      "\n",
      "Best model:  ARIMA(1,1,1)(0,0,0)[0]          \n",
      "Total fit time: 2.324 seconds\n"
     ]
    }
   ],
   "source": [
    "stepwise_fit = auto_arima(df2['Births'], start_p=0, start_q=0, max_p=6, max_q=3, seasonal=False, trace=True)"
   ]
  },
  {
   "cell_type": "code",
   "execution_count": 6,
   "metadata": {},
   "outputs": [
    {
     "data": {
      "text/html": [
       "<table class=\"simpletable\">\n",
       "<caption>SARIMAX Results</caption>\n",
       "<tr>\n",
       "  <th>Dep. Variable:</th>           <td>y</td>        <th>  No. Observations:  </th>    <td>365</td>   \n",
       "</tr>\n",
       "<tr>\n",
       "  <th>Model:</th>           <td>SARIMAX(1, 1, 1)</td> <th>  Log Likelihood     </th> <td>-1226.537</td>\n",
       "</tr>\n",
       "<tr>\n",
       "  <th>Date:</th>            <td>Thu, 30 Dec 2021</td> <th>  AIC                </th> <td>2459.074</td> \n",
       "</tr>\n",
       "<tr>\n",
       "  <th>Time:</th>                <td>11:03:19</td>     <th>  BIC                </th> <td>2470.766</td> \n",
       "</tr>\n",
       "<tr>\n",
       "  <th>Sample:</th>                  <td>0</td>        <th>  HQIC               </th> <td>2463.721</td> \n",
       "</tr>\n",
       "<tr>\n",
       "  <th></th>                      <td> - 365</td>      <th>                     </th>     <td> </td>    \n",
       "</tr>\n",
       "<tr>\n",
       "  <th>Covariance Type:</th>        <td>opg</td>       <th>                     </th>     <td> </td>    \n",
       "</tr>\n",
       "</table>\n",
       "<table class=\"simpletable\">\n",
       "<tr>\n",
       "     <td></td>       <th>coef</th>     <th>std err</th>      <th>z</th>      <th>P>|z|</th>  <th>[0.025</th>    <th>0.975]</th>  \n",
       "</tr>\n",
       "<tr>\n",
       "  <th>ar.L1</th>  <td>    0.1252</td> <td>    0.060</td> <td>    2.097</td> <td> 0.036</td> <td>    0.008</td> <td>    0.242</td>\n",
       "</tr>\n",
       "<tr>\n",
       "  <th>ma.L1</th>  <td>   -0.9624</td> <td>    0.017</td> <td>  -56.429</td> <td> 0.000</td> <td>   -0.996</td> <td>   -0.929</td>\n",
       "</tr>\n",
       "<tr>\n",
       "  <th>sigma2</th> <td>   49.1512</td> <td>    3.250</td> <td>   15.122</td> <td> 0.000</td> <td>   42.781</td> <td>   55.522</td>\n",
       "</tr>\n",
       "</table>\n",
       "<table class=\"simpletable\">\n",
       "<tr>\n",
       "  <th>Ljung-Box (L1) (Q):</th>     <td>0.04</td> <th>  Jarque-Bera (JB):  </th> <td>25.33</td>\n",
       "</tr>\n",
       "<tr>\n",
       "  <th>Prob(Q):</th>                <td>0.84</td> <th>  Prob(JB):          </th> <td>0.00</td> \n",
       "</tr>\n",
       "<tr>\n",
       "  <th>Heteroskedasticity (H):</th> <td>0.96</td> <th>  Skew:              </th> <td>0.57</td> \n",
       "</tr>\n",
       "<tr>\n",
       "  <th>Prob(H) (two-sided):</th>    <td>0.81</td> <th>  Kurtosis:          </th> <td>3.60</td> \n",
       "</tr>\n",
       "</table><br/><br/>Warnings:<br/>[1] Covariance matrix calculated using the outer product of gradients (complex-step)."
      ],
      "text/plain": [
       "<class 'statsmodels.iolib.summary.Summary'>\n",
       "\"\"\"\n",
       "                               SARIMAX Results                                \n",
       "==============================================================================\n",
       "Dep. Variable:                      y   No. Observations:                  365\n",
       "Model:               SARIMAX(1, 1, 1)   Log Likelihood               -1226.537\n",
       "Date:                Thu, 30 Dec 2021   AIC                           2459.074\n",
       "Time:                        11:03:19   BIC                           2470.766\n",
       "Sample:                             0   HQIC                          2463.721\n",
       "                                - 365                                         \n",
       "Covariance Type:                  opg                                         \n",
       "==============================================================================\n",
       "                 coef    std err          z      P>|z|      [0.025      0.975]\n",
       "------------------------------------------------------------------------------\n",
       "ar.L1          0.1252      0.060      2.097      0.036       0.008       0.242\n",
       "ma.L1         -0.9624      0.017    -56.429      0.000      -0.996      -0.929\n",
       "sigma2        49.1512      3.250     15.122      0.000      42.781      55.522\n",
       "===================================================================================\n",
       "Ljung-Box (L1) (Q):                   0.04   Jarque-Bera (JB):                25.33\n",
       "Prob(Q):                              0.84   Prob(JB):                         0.00\n",
       "Heteroskedasticity (H):               0.96   Skew:                             0.57\n",
       "Prob(H) (two-sided):                  0.81   Kurtosis:                         3.60\n",
       "===================================================================================\n",
       "\n",
       "Warnings:\n",
       "[1] Covariance matrix calculated using the outer product of gradients (complex-step).\n",
       "\"\"\""
      ]
     },
     "execution_count": 6,
     "metadata": {},
     "output_type": "execute_result"
    }
   ],
   "source": [
    "stepwise_fit.summary()"
   ]
  },
  {
   "cell_type": "markdown",
   "metadata": {},
   "source": [
    "**Non-Stationary Dataset**"
   ]
  },
  {
   "cell_type": "code",
   "execution_count": 7,
   "metadata": {},
   "outputs": [
    {
     "name": "stdout",
     "output_type": "stream",
     "text": [
      "Performing stepwise search to minimize aic\n",
      " ARIMA(0,1,0)(1,1,1)[12]             : AIC=1032.128, Time=0.19 sec\n",
      " ARIMA(0,1,0)(0,1,0)[12]             : AIC=1031.508, Time=0.02 sec\n",
      " ARIMA(1,1,0)(1,1,0)[12]             : AIC=1020.393, Time=0.08 sec\n",
      " ARIMA(0,1,1)(0,1,1)[12]             : AIC=1021.003, Time=0.12 sec\n",
      " ARIMA(1,1,0)(0,1,0)[12]             : AIC=1020.393, Time=0.02 sec\n",
      " ARIMA(1,1,0)(2,1,0)[12]             : AIC=1019.239, Time=0.19 sec\n",
      " ARIMA(1,1,0)(2,1,1)[12]             : AIC=inf, Time=2.16 sec\n",
      " ARIMA(1,1,0)(1,1,1)[12]             : AIC=1020.493, Time=0.39 sec\n",
      " ARIMA(0,1,0)(2,1,0)[12]             : AIC=1032.120, Time=0.25 sec\n",
      " ARIMA(2,1,0)(2,1,0)[12]             : AIC=1021.120, Time=0.46 sec\n",
      " ARIMA(1,1,1)(2,1,0)[12]             : AIC=1021.032, Time=0.45 sec\n",
      " ARIMA(0,1,1)(2,1,0)[12]             : AIC=1019.178, Time=0.35 sec\n",
      " ARIMA(0,1,1)(1,1,0)[12]             : AIC=1020.425, Time=0.14 sec\n",
      " ARIMA(0,1,1)(2,1,1)[12]             : AIC=inf, Time=1.32 sec\n",
      " ARIMA(0,1,1)(1,1,1)[12]             : AIC=1020.327, Time=0.31 sec\n",
      " ARIMA(0,1,2)(2,1,0)[12]             : AIC=1021.148, Time=0.31 sec\n",
      " ARIMA(1,1,2)(2,1,0)[12]             : AIC=1022.805, Time=0.46 sec\n",
      " ARIMA(0,1,1)(2,1,0)[12] intercept   : AIC=1021.017, Time=0.41 sec\n",
      "\n",
      "Best model:  ARIMA(0,1,1)(2,1,0)[12]          \n",
      "Total fit time: 7.644 seconds\n"
     ]
    }
   ],
   "source": [
    "# m here is the period. since we have Monthly data, the period is 12. For Quarterly, the value of m would be 4 and for yearly, it should be 1\n",
    "stepwise_fit = auto_arima(df1['Thousands of Passengers'], start_p=0, start_q=0, max_p=6, max_q=4, seasonal=True, trace=True, m=12) "
   ]
  },
  {
   "cell_type": "code",
   "execution_count": 8,
   "metadata": {},
   "outputs": [
    {
     "data": {
      "text/html": [
       "<table class=\"simpletable\">\n",
       "<caption>SARIMAX Results</caption>\n",
       "<tr>\n",
       "  <th>Dep. Variable:</th>                  <td>y</td>                <th>  No. Observations:  </th>    <td>144</td>  \n",
       "</tr>\n",
       "<tr>\n",
       "  <th>Model:</th>           <td>SARIMAX(0, 1, 1)x(2, 1, [], 12)</td> <th>  Log Likelihood     </th> <td>-505.589</td>\n",
       "</tr>\n",
       "<tr>\n",
       "  <th>Date:</th>                   <td>Thu, 30 Dec 2021</td>         <th>  AIC                </th> <td>1019.178</td>\n",
       "</tr>\n",
       "<tr>\n",
       "  <th>Time:</th>                       <td>11:03:27</td>             <th>  BIC                </th> <td>1030.679</td>\n",
       "</tr>\n",
       "<tr>\n",
       "  <th>Sample:</th>                         <td>0</td>                <th>  HQIC               </th> <td>1023.851</td>\n",
       "</tr>\n",
       "<tr>\n",
       "  <th></th>                             <td> - 144</td>              <th>                     </th>     <td> </td>   \n",
       "</tr>\n",
       "<tr>\n",
       "  <th>Covariance Type:</th>               <td>opg</td>               <th>                     </th>     <td> </td>   \n",
       "</tr>\n",
       "</table>\n",
       "<table class=\"simpletable\">\n",
       "<tr>\n",
       "      <td></td>        <th>coef</th>     <th>std err</th>      <th>z</th>      <th>P>|z|</th>  <th>[0.025</th>    <th>0.975]</th>  \n",
       "</tr>\n",
       "<tr>\n",
       "  <th>ma.L1</th>    <td>   -0.3634</td> <td>    0.074</td> <td>   -4.945</td> <td> 0.000</td> <td>   -0.508</td> <td>   -0.219</td>\n",
       "</tr>\n",
       "<tr>\n",
       "  <th>ar.S.L12</th> <td>   -0.1239</td> <td>    0.090</td> <td>   -1.372</td> <td> 0.170</td> <td>   -0.301</td> <td>    0.053</td>\n",
       "</tr>\n",
       "<tr>\n",
       "  <th>ar.S.L24</th> <td>    0.1911</td> <td>    0.107</td> <td>    1.783</td> <td> 0.075</td> <td>   -0.019</td> <td>    0.401</td>\n",
       "</tr>\n",
       "<tr>\n",
       "  <th>sigma2</th>   <td>  130.4480</td> <td>   15.527</td> <td>    8.402</td> <td> 0.000</td> <td>  100.016</td> <td>  160.880</td>\n",
       "</tr>\n",
       "</table>\n",
       "<table class=\"simpletable\">\n",
       "<tr>\n",
       "  <th>Ljung-Box (L1) (Q):</th>     <td>0.01</td> <th>  Jarque-Bera (JB):  </th> <td>4.59</td>\n",
       "</tr>\n",
       "<tr>\n",
       "  <th>Prob(Q):</th>                <td>0.92</td> <th>  Prob(JB):          </th> <td>0.10</td>\n",
       "</tr>\n",
       "<tr>\n",
       "  <th>Heteroskedasticity (H):</th> <td>2.70</td> <th>  Skew:              </th> <td>0.15</td>\n",
       "</tr>\n",
       "<tr>\n",
       "  <th>Prob(H) (two-sided):</th>    <td>0.00</td> <th>  Kurtosis:          </th> <td>3.87</td>\n",
       "</tr>\n",
       "</table><br/><br/>Warnings:<br/>[1] Covariance matrix calculated using the outer product of gradients (complex-step)."
      ],
      "text/plain": [
       "<class 'statsmodels.iolib.summary.Summary'>\n",
       "\"\"\"\n",
       "                                      SARIMAX Results                                      \n",
       "===========================================================================================\n",
       "Dep. Variable:                                   y   No. Observations:                  144\n",
       "Model:             SARIMAX(0, 1, 1)x(2, 1, [], 12)   Log Likelihood                -505.589\n",
       "Date:                             Thu, 30 Dec 2021   AIC                           1019.178\n",
       "Time:                                     11:03:27   BIC                           1030.679\n",
       "Sample:                                          0   HQIC                          1023.851\n",
       "                                             - 144                                         \n",
       "Covariance Type:                               opg                                         \n",
       "==============================================================================\n",
       "                 coef    std err          z      P>|z|      [0.025      0.975]\n",
       "------------------------------------------------------------------------------\n",
       "ma.L1         -0.3634      0.074     -4.945      0.000      -0.508      -0.219\n",
       "ar.S.L12      -0.1239      0.090     -1.372      0.170      -0.301       0.053\n",
       "ar.S.L24       0.1911      0.107      1.783      0.075      -0.019       0.401\n",
       "sigma2       130.4480     15.527      8.402      0.000     100.016     160.880\n",
       "===================================================================================\n",
       "Ljung-Box (L1) (Q):                   0.01   Jarque-Bera (JB):                 4.59\n",
       "Prob(Q):                              0.92   Prob(JB):                         0.10\n",
       "Heteroskedasticity (H):               2.70   Skew:                             0.15\n",
       "Prob(H) (two-sided):                  0.00   Kurtosis:                         3.87\n",
       "===================================================================================\n",
       "\n",
       "Warnings:\n",
       "[1] Covariance matrix calculated using the outer product of gradients (complex-step).\n",
       "\"\"\""
      ]
     },
     "execution_count": 8,
     "metadata": {},
     "output_type": "execute_result"
    }
   ],
   "source": [
    "stepwise_fit.summary()"
   ]
  },
  {
   "cell_type": "markdown",
   "metadata": {},
   "source": [
    "## **Using ARMA and ARIMA Models**"
   ]
  },
  {
   "cell_type": "code",
   "execution_count": 9,
   "metadata": {},
   "outputs": [],
   "source": [
    "import pandas as pd\n",
    "import numpy as np\n",
    "from pmdarima import auto_arima\n",
    "from statsmodels.tsa.arima_model import ARMA\n",
    "from statsmodels.graphics.tsaplots import plot_acf, plot_pacf"
   ]
  },
  {
   "cell_type": "code",
   "execution_count": 10,
   "metadata": {},
   "outputs": [
    {
     "data": {
      "text/html": [
       "<div>\n",
       "<style scoped>\n",
       "    .dataframe tbody tr th:only-of-type {\n",
       "        vertical-align: middle;\n",
       "    }\n",
       "\n",
       "    .dataframe tbody tr th {\n",
       "        vertical-align: top;\n",
       "    }\n",
       "\n",
       "    .dataframe thead th {\n",
       "        text-align: right;\n",
       "    }\n",
       "</style>\n",
       "<table border=\"1\" class=\"dataframe\">\n",
       "  <thead>\n",
       "    <tr style=\"text-align: right;\">\n",
       "      <th></th>\n",
       "      <th>Births</th>\n",
       "    </tr>\n",
       "    <tr>\n",
       "      <th>Date</th>\n",
       "      <th></th>\n",
       "    </tr>\n",
       "  </thead>\n",
       "  <tbody>\n",
       "    <tr>\n",
       "      <th>1959-01-01</th>\n",
       "      <td>35</td>\n",
       "    </tr>\n",
       "    <tr>\n",
       "      <th>1959-01-02</th>\n",
       "      <td>32</td>\n",
       "    </tr>\n",
       "    <tr>\n",
       "      <th>1959-01-03</th>\n",
       "      <td>30</td>\n",
       "    </tr>\n",
       "    <tr>\n",
       "      <th>1959-01-04</th>\n",
       "      <td>31</td>\n",
       "    </tr>\n",
       "    <tr>\n",
       "      <th>1959-01-05</th>\n",
       "      <td>44</td>\n",
       "    </tr>\n",
       "  </tbody>\n",
       "</table>\n",
       "</div>"
      ],
      "text/plain": [
       "            Births\n",
       "Date              \n",
       "1959-01-01      35\n",
       "1959-01-02      32\n",
       "1959-01-03      30\n",
       "1959-01-04      31\n",
       "1959-01-05      44"
      ]
     },
     "execution_count": 10,
     "metadata": {},
     "output_type": "execute_result"
    }
   ],
   "source": [
    "df1 = pd.read_csv(r'C:\\Users\\nevishwakarma\\Documents\\Datasets\\Data_Udemy\\DailyTotalFemaleBirths.csv', index_col=['Date'], parse_dates=True)\n",
    "df1.index.freq = 'D'\n",
    "df1 = df1[:120]\n",
    "df1.head()"
   ]
  },
  {
   "cell_type": "code",
   "execution_count": 85,
   "metadata": {},
   "outputs": [
    {
     "data": {
      "text/html": [
       "<div>\n",
       "<style scoped>\n",
       "    .dataframe tbody tr th:only-of-type {\n",
       "        vertical-align: middle;\n",
       "    }\n",
       "\n",
       "    .dataframe tbody tr th {\n",
       "        vertical-align: top;\n",
       "    }\n",
       "\n",
       "    .dataframe thead th {\n",
       "        text-align: right;\n",
       "    }\n",
       "</style>\n",
       "<table border=\"1\" class=\"dataframe\">\n",
       "  <thead>\n",
       "    <tr style=\"text-align: right;\">\n",
       "      <th></th>\n",
       "      <th>Inventories</th>\n",
       "    </tr>\n",
       "    <tr>\n",
       "      <th>Date</th>\n",
       "      <th></th>\n",
       "    </tr>\n",
       "  </thead>\n",
       "  <tbody>\n",
       "    <tr>\n",
       "      <th>1997-01-01</th>\n",
       "      <td>1301161</td>\n",
       "    </tr>\n",
       "    <tr>\n",
       "      <th>1997-02-01</th>\n",
       "      <td>1307080</td>\n",
       "    </tr>\n",
       "    <tr>\n",
       "      <th>1997-03-01</th>\n",
       "      <td>1303978</td>\n",
       "    </tr>\n",
       "    <tr>\n",
       "      <th>1997-04-01</th>\n",
       "      <td>1319740</td>\n",
       "    </tr>\n",
       "    <tr>\n",
       "      <th>1997-05-01</th>\n",
       "      <td>1327294</td>\n",
       "    </tr>\n",
       "  </tbody>\n",
       "</table>\n",
       "</div>"
      ],
      "text/plain": [
       "            Inventories\n",
       "Date                   \n",
       "1997-01-01      1301161\n",
       "1997-02-01      1307080\n",
       "1997-03-01      1303978\n",
       "1997-04-01      1319740\n",
       "1997-05-01      1327294"
      ]
     },
     "execution_count": 85,
     "metadata": {},
     "output_type": "execute_result"
    }
   ],
   "source": [
    "df2 = pd.read_csv(r'C:\\Users\\nevishwakarma\\Documents\\Datasets\\Data_Udemy\\TradeInventories.csv', index_col=['Date'], parse_dates=True)\n",
    "df2.index.freq = 'MS'\n",
    "df2.head()"
   ]
  },
  {
   "cell_type": "markdown",
   "metadata": {},
   "source": [
    "### **ARMA**"
   ]
  },
  {
   "cell_type": "code",
   "execution_count": 12,
   "metadata": {},
   "outputs": [
    {
     "data": {
      "text/plain": [
       "<AxesSubplot:xlabel='Date'>"
      ]
     },
     "execution_count": 12,
     "metadata": {},
     "output_type": "execute_result"
    },
    {
     "data": {
      "image/png": "[encoded data removed]",
      "text/plain": [
       "<Figure size 864x360 with 1 Axes>"
      ]
     },
     "metadata": {
      "needs_background": "light"
     },
     "output_type": "display_data"
    }
   ],
   "source": [
    "df1['Births'].plot(figsize=(12,5))"
   ]
  },
  {
   "cell_type": "markdown",
   "metadata": {},
   "source": [
    "**Step 1 : Let's confirm the stationarity**"
   ]
  },
  {
   "cell_type": "code",
   "execution_count": 13,
   "metadata": {},
   "outputs": [
    {
     "name": "stdout",
     "output_type": "stream",
     "text": [
      "Time-series is Stationary\n"
     ]
    }
   ],
   "source": [
    "from statsmodels.tsa.stattools import adfuller\n",
    "\n",
    "def parse_results(results):\n",
    "    if results[1] <= 0.05:\n",
    "        print(\"Time-series is Stationary\")\n",
    "    else:\n",
    "        print(\"Time-series is Non-Stationary\")\n",
    "\n",
    "result1 = adfuller(df1['Births'])\n",
    "parse_results(result1)"
   ]
  },
  {
   "cell_type": "markdown",
   "metadata": {},
   "source": [
    "Since the series is stationary, the ARMA model will work.\n",
    "\n",
    "**Step 2: Calculate the <tt>P, D & Q</tt>**"
   ]
  },
  {
   "cell_type": "code",
   "execution_count": 14,
   "metadata": {},
   "outputs": [
    {
     "name": "stdout",
     "output_type": "stream",
     "text": [
      "Performing stepwise search to minimize aic\n",
      " ARIMA(2,0,2)(0,0,0)[0]             : AIC=inf, Time=0.25 sec\n",
      " ARIMA(0,0,0)(0,0,0)[0]             : AIC=1230.607, Time=0.00 sec\n",
      " ARIMA(1,0,0)(0,0,0)[0]             : AIC=896.926, Time=0.01 sec\n",
      " ARIMA(0,0,1)(0,0,0)[0]             : AIC=1121.103, Time=0.03 sec\n",
      " ARIMA(2,0,0)(0,0,0)[0]             : AIC=inf, Time=0.04 sec\n",
      " ARIMA(1,0,1)(0,0,0)[0]             : AIC=inf, Time=0.12 sec\n",
      " ARIMA(2,0,1)(0,0,0)[0]             : AIC=inf, Time=0.13 sec\n",
      " ARIMA(1,0,0)(0,0,0)[0] intercept   : AIC=824.647, Time=0.02 sec\n",
      " ARIMA(0,0,0)(0,0,0)[0] intercept   : AIC=823.489, Time=0.01 sec\n",
      " ARIMA(0,0,1)(0,0,0)[0] intercept   : AIC=824.747, Time=0.03 sec\n",
      " ARIMA(1,0,1)(0,0,0)[0] intercept   : AIC=826.399, Time=0.12 sec\n",
      "\n",
      "Best model:  ARIMA(0,0,0)(0,0,0)[0] intercept\n",
      "Total fit time: 0.772 seconds\n"
     ]
    },
    {
     "data": {
      "text/html": [
       "<table class=\"simpletable\">\n",
       "<caption>SARIMAX Results</caption>\n",
       "<tr>\n",
       "  <th>Dep. Variable:</th>           <td>y</td>        <th>  No. Observations:  </th>    <td>120</td>  \n",
       "</tr>\n",
       "<tr>\n",
       "  <th>Model:</th>                <td>SARIMAX</td>     <th>  Log Likelihood     </th> <td>-409.745</td>\n",
       "</tr>\n",
       "<tr>\n",
       "  <th>Date:</th>            <td>Thu, 30 Dec 2021</td> <th>  AIC                </th>  <td>823.489</td>\n",
       "</tr>\n",
       "<tr>\n",
       "  <th>Time:</th>                <td>11:03:28</td>     <th>  BIC                </th>  <td>829.064</td>\n",
       "</tr>\n",
       "<tr>\n",
       "  <th>Sample:</th>                  <td>0</td>        <th>  HQIC               </th>  <td>825.753</td>\n",
       "</tr>\n",
       "<tr>\n",
       "  <th></th>                      <td> - 120</td>      <th>                     </th>     <td> </td>   \n",
       "</tr>\n",
       "<tr>\n",
       "  <th>Covariance Type:</th>        <td>opg</td>       <th>                     </th>     <td> </td>   \n",
       "</tr>\n",
       "</table>\n",
       "<table class=\"simpletable\">\n",
       "<tr>\n",
       "      <td></td>         <th>coef</th>     <th>std err</th>      <th>z</th>      <th>P>|z|</th>  <th>[0.025</th>    <th>0.975]</th>  \n",
       "</tr>\n",
       "<tr>\n",
       "  <th>intercept</th> <td>   39.7833</td> <td>    0.687</td> <td>   57.896</td> <td> 0.000</td> <td>   38.437</td> <td>   41.130</td>\n",
       "</tr>\n",
       "<tr>\n",
       "  <th>sigma2</th>    <td>   54.1197</td> <td>    8.319</td> <td>    6.506</td> <td> 0.000</td> <td>   37.815</td> <td>   70.424</td>\n",
       "</tr>\n",
       "</table>\n",
       "<table class=\"simpletable\">\n",
       "<tr>\n",
       "  <th>Ljung-Box (L1) (Q):</th>     <td>0.85</td> <th>  Jarque-Bera (JB):  </th> <td>2.69</td>\n",
       "</tr>\n",
       "<tr>\n",
       "  <th>Prob(Q):</th>                <td>0.36</td> <th>  Prob(JB):          </th> <td>0.26</td>\n",
       "</tr>\n",
       "<tr>\n",
       "  <th>Heteroskedasticity (H):</th> <td>0.80</td> <th>  Skew:              </th> <td>0.26</td>\n",
       "</tr>\n",
       "<tr>\n",
       "  <th>Prob(H) (two-sided):</th>    <td>0.48</td> <th>  Kurtosis:          </th> <td>2.48</td>\n",
       "</tr>\n",
       "</table><br/><br/>Warnings:<br/>[1] Covariance matrix calculated using the outer product of gradients (complex-step)."
      ],
      "text/plain": [
       "<class 'statsmodels.iolib.summary.Summary'>\n",
       "\"\"\"\n",
       "                               SARIMAX Results                                \n",
       "==============================================================================\n",
       "Dep. Variable:                      y   No. Observations:                  120\n",
       "Model:                        SARIMAX   Log Likelihood                -409.745\n",
       "Date:                Thu, 30 Dec 2021   AIC                            823.489\n",
       "Time:                        11:03:28   BIC                            829.064\n",
       "Sample:                             0   HQIC                           825.753\n",
       "                                - 120                                         \n",
       "Covariance Type:                  opg                                         \n",
       "==============================================================================\n",
       "                 coef    std err          z      P>|z|      [0.025      0.975]\n",
       "------------------------------------------------------------------------------\n",
       "intercept     39.7833      0.687     57.896      0.000      38.437      41.130\n",
       "sigma2        54.1197      8.319      6.506      0.000      37.815      70.424\n",
       "===================================================================================\n",
       "Ljung-Box (L1) (Q):                   0.85   Jarque-Bera (JB):                 2.69\n",
       "Prob(Q):                              0.36   Prob(JB):                         0.26\n",
       "Heteroskedasticity (H):               0.80   Skew:                             0.26\n",
       "Prob(H) (two-sided):                  0.48   Kurtosis:                         2.48\n",
       "===================================================================================\n",
       "\n",
       "Warnings:\n",
       "[1] Covariance matrix calculated using the outer product of gradients (complex-step).\n",
       "\"\"\""
      ]
     },
     "execution_count": 14,
     "metadata": {},
     "output_type": "execute_result"
    }
   ],
   "source": [
    "auto_arima(df1['Births'], seasonal=False, trace=True).summary()"
   ]
  },
  {
   "cell_type": "markdown",
   "metadata": {},
   "source": [
    "**Step 3: Train-Test Split**"
   ]
  },
  {
   "cell_type": "code",
   "execution_count": 15,
   "metadata": {},
   "outputs": [],
   "source": [
    "train = df1.iloc[:90]\n",
    "test = df1.iloc[90:]"
   ]
  },
  {
   "cell_type": "markdown",
   "metadata": {},
   "source": [
    "**Step 4: Modelling**"
   ]
  },
  {
   "cell_type": "code",
   "execution_count": 16,
   "metadata": {},
   "outputs": [
    {
     "name": "stderr",
     "output_type": "stream",
     "text": [
      "C:\\Users\\nevishwakarma\\AppData\\Local\\Programs\\Python\\Python38\\lib\\site-packages\\statsmodels\\tsa\\arima_model.py:472: FutureWarning: \n",
      "statsmodels.tsa.arima_model.ARMA and statsmodels.tsa.arima_model.ARIMA have\n",
      "been deprecated in favor of statsmodels.tsa.arima.model.ARIMA (note the .\n",
      "between arima and model) and\n",
      "statsmodels.tsa.SARIMAX. These will be removed after the 0.12 release.\n",
      "\n",
      "statsmodels.tsa.arima.model.ARIMA makes use of the statespace framework and\n",
      "is both well tested and maintained.\n",
      "\n",
      "To silence this warning and continue using ARMA and ARIMA until they are\n",
      "removed, use:\n",
      "\n",
      "import warnings\n",
      "warnings.filterwarnings('ignore', 'statsmodels.tsa.arima_model.ARMA',\n",
      "                        FutureWarning)\n",
      "warnings.filterwarnings('ignore', 'statsmodels.tsa.arima_model.ARIMA',\n",
      "                        FutureWarning)\n",
      "\n",
      "  warnings.warn(ARIMA_DEPRECATION_WARN, FutureWarning)\n"
     ]
    }
   ],
   "source": [
    "model = ARMA(train['Births'], order=(2,2));"
   ]
  },
  {
   "cell_type": "code",
   "execution_count": 17,
   "metadata": {},
   "outputs": [],
   "source": [
    "results = model.fit()"
   ]
  },
  {
   "cell_type": "code",
   "execution_count": 18,
   "metadata": {},
   "outputs": [
    {
     "data": {
      "text/html": [
       "<table class=\"simpletable\">\n",
       "<caption>ARMA Model Results</caption>\n",
       "<tr>\n",
       "  <th>Dep. Variable:</th>      <td>Births</td>      <th>  No. Observations:  </th>    <td>90</td>   \n",
       "</tr>\n",
       "<tr>\n",
       "  <th>Model:</th>            <td>ARMA(2, 2)</td>    <th>  Log Likelihood     </th> <td>-307.905</td>\n",
       "</tr>\n",
       "<tr>\n",
       "  <th>Method:</th>             <td>css-mle</td>     <th>  S.D. of innovations</th>   <td>7.405</td> \n",
       "</tr>\n",
       "<tr>\n",
       "  <th>Date:</th>          <td>Thu, 30 Dec 2021</td> <th>  AIC                </th>  <td>627.809</td>\n",
       "</tr>\n",
       "<tr>\n",
       "  <th>Time:</th>              <td>11:03:29</td>     <th>  BIC                </th>  <td>642.808</td>\n",
       "</tr>\n",
       "<tr>\n",
       "  <th>Sample:</th>           <td>01-01-1959</td>    <th>  HQIC               </th>  <td>633.858</td>\n",
       "</tr>\n",
       "<tr>\n",
       "  <th></th>                 <td>- 03-31-1959</td>   <th>                     </th>     <td> </td>   \n",
       "</tr>\n",
       "</table>\n",
       "<table class=\"simpletable\">\n",
       "<tr>\n",
       "        <td></td>          <th>coef</th>     <th>std err</th>      <th>z</th>      <th>P>|z|</th>  <th>[0.025</th>    <th>0.975]</th>  \n",
       "</tr>\n",
       "<tr>\n",
       "  <th>const</th>        <td>   39.7549</td> <td>    0.912</td> <td>   43.608</td> <td> 0.000</td> <td>   37.968</td> <td>   41.542</td>\n",
       "</tr>\n",
       "<tr>\n",
       "  <th>ar.L1.Births</th> <td>   -0.1850</td> <td>    1.087</td> <td>   -0.170</td> <td> 0.865</td> <td>   -2.315</td> <td>    1.945</td>\n",
       "</tr>\n",
       "<tr>\n",
       "  <th>ar.L2.Births</th> <td>    0.4352</td> <td>    0.644</td> <td>    0.675</td> <td> 0.500</td> <td>   -0.828</td> <td>    1.698</td>\n",
       "</tr>\n",
       "<tr>\n",
       "  <th>ma.L1.Births</th> <td>    0.2777</td> <td>    1.097</td> <td>    0.253</td> <td> 0.800</td> <td>   -1.872</td> <td>    2.427</td>\n",
       "</tr>\n",
       "<tr>\n",
       "  <th>ma.L2.Births</th> <td>   -0.3999</td> <td>    0.679</td> <td>   -0.589</td> <td> 0.556</td> <td>   -1.730</td> <td>    0.930</td>\n",
       "</tr>\n",
       "</table>\n",
       "<table class=\"simpletable\">\n",
       "<caption>Roots</caption>\n",
       "<tr>\n",
       "    <td></td>   <th>            Real</th>  <th>         Imaginary</th> <th>         Modulus</th>  <th>        Frequency</th>\n",
       "</tr>\n",
       "<tr>\n",
       "  <th>AR.1</th> <td>          -1.3181</td> <td>          +0.0000j</td> <td>           1.3181</td> <td>           0.5000</td>\n",
       "</tr>\n",
       "<tr>\n",
       "  <th>AR.2</th> <td>           1.7434</td> <td>          +0.0000j</td> <td>           1.7434</td> <td>           0.0000</td>\n",
       "</tr>\n",
       "<tr>\n",
       "  <th>MA.1</th> <td>          -1.2718</td> <td>          +0.0000j</td> <td>           1.2718</td> <td>           0.5000</td>\n",
       "</tr>\n",
       "<tr>\n",
       "  <th>MA.2</th> <td>           1.9662</td> <td>          +0.0000j</td> <td>           1.9662</td> <td>           0.0000</td>\n",
       "</tr>\n",
       "</table>"
      ],
      "text/plain": [
       "<class 'statsmodels.iolib.summary.Summary'>\n",
       "\"\"\"\n",
       "                              ARMA Model Results                              \n",
       "==============================================================================\n",
       "Dep. Variable:                 Births   No. Observations:                   90\n",
       "Model:                     ARMA(2, 2)   Log Likelihood                -307.905\n",
       "Method:                       css-mle   S.D. of innovations              7.405\n",
       "Date:                Thu, 30 Dec 2021   AIC                            627.809\n",
       "Time:                        11:03:29   BIC                            642.808\n",
       "Sample:                    01-01-1959   HQIC                           633.858\n",
       "                         - 03-31-1959                                         \n",
       "================================================================================\n",
       "                   coef    std err          z      P>|z|      [0.025      0.975]\n",
       "--------------------------------------------------------------------------------\n",
       "const           39.7549      0.912     43.608      0.000      37.968      41.542\n",
       "ar.L1.Births    -0.1850      1.087     -0.170      0.865      -2.315       1.945\n",
       "ar.L2.Births     0.4352      0.644      0.675      0.500      -0.828       1.698\n",
       "ma.L1.Births     0.2777      1.097      0.253      0.800      -1.872       2.427\n",
       "ma.L2.Births    -0.3999      0.679     -0.589      0.556      -1.730       0.930\n",
       "                                    Roots                                    \n",
       "=============================================================================\n",
       "                  Real          Imaginary           Modulus         Frequency\n",
       "-----------------------------------------------------------------------------\n",
       "AR.1           -1.3181           +0.0000j            1.3181            0.5000\n",
       "AR.2            1.7434           +0.0000j            1.7434            0.0000\n",
       "MA.1           -1.2718           +0.0000j            1.2718            0.5000\n",
       "MA.2            1.9662           +0.0000j            1.9662            0.0000\n",
       "-----------------------------------------------------------------------------\n",
       "\"\"\""
      ]
     },
     "execution_count": 18,
     "metadata": {},
     "output_type": "execute_result"
    }
   ],
   "source": [
    "results.summary()"
   ]
  },
  {
   "cell_type": "markdown",
   "metadata": {},
   "source": [
    "**Step 5 : Predictions for testing**"
   ]
  },
  {
   "cell_type": "code",
   "execution_count": 19,
   "metadata": {},
   "outputs": [],
   "source": [
    "start = len(train)\n",
    "end = start + len(test) -1 "
   ]
  },
  {
   "cell_type": "code",
   "execution_count": 20,
   "metadata": {},
   "outputs": [],
   "source": [
    "predictions = results.predict(start,end).rename('ARMA (2,2) Predictions')"
   ]
  },
  {
   "cell_type": "code",
   "execution_count": 21,
   "metadata": {},
   "outputs": [
    {
     "data": {
      "text/plain": [
       "<AxesSubplot:xlabel='Date'>"
      ]
     },
     "execution_count": 21,
     "metadata": {},
     "output_type": "execute_result"
    },
    {
     "data": {
      "image/png": "[encoded data removed]",
      "text/plain": [
       "<Figure size 864x360 with 1 Axes>"
      ]
     },
     "metadata": {
      "needs_background": "light"
     },
     "output_type": "display_data"
    }
   ],
   "source": [
    "test.plot(figsize=(12,5), legend=True)\n",
    "predictions.plot(figsize=(12,5), legend=True)"
   ]
  },
  {
   "cell_type": "markdown",
   "metadata": {},
   "source": [
    "Here, the model has forcasted the average values. The model wasn't able to predict the noise though."
   ]
  },
  {
   "cell_type": "code",
   "execution_count": 22,
   "metadata": {},
   "outputs": [
    {
     "name": "stdout",
     "output_type": "stream",
     "text": [
      "Mean of the test dataset is : Births    39.833333\n",
      "dtype: float64\n",
      "Mean predicted by the predictions is : 39.77743185601346\n"
     ]
    }
   ],
   "source": [
    "print(\"Mean of the test dataset is :\", test.mean())\n",
    "print(\"Mean predicted by the predictions is :\", predictions.mean())"
   ]
  },
  {
   "cell_type": "markdown",
   "metadata": {},
   "source": [
    "### **ARIMA**"
   ]
  },
  {
   "cell_type": "markdown",
   "metadata": {},
   "source": [
    "**Step 1 : Let's confirm the Stationarity**"
   ]
  },
  {
   "cell_type": "code",
   "execution_count": 23,
   "metadata": {},
   "outputs": [
    {
     "name": "stdout",
     "output_type": "stream",
     "text": [
      "Time-series is Non-Stationary\n"
     ]
    }
   ],
   "source": [
    "from statsmodels.tsa.stattools import adfuller\n",
    "\n",
    "def parse_results(results):\n",
    "    if results[1] <= 0.05:\n",
    "        print(\"Time-series is Stationary\")\n",
    "    else:\n",
    "        print(\"Time-series is Non-Stationary\")\n",
    "\n",
    "result = adfuller(df2['Inventories'])\n",
    "parse_results(result)"
   ]
  },
  {
   "cell_type": "markdown",
   "metadata": {},
   "source": [
    "Since the series is non-stationary, let's visualize the components."
   ]
  },
  {
   "cell_type": "code",
   "execution_count": 24,
   "metadata": {},
   "outputs": [
    {
     "data": {
      "text/plain": [
       "<AxesSubplot:xlabel='Date'>"
      ]
     },
     "execution_count": 24,
     "metadata": {},
     "output_type": "execute_result"
    },
    {
     "data": {
      "image/png": "[encoded data removed]",
      "text/plain": [
       "<Figure size 432x288 with 1 Axes>"
      ]
     },
     "metadata": {
      "needs_background": "light"
     },
     "output_type": "display_data"
    }
   ],
   "source": [
    "df2.plot()"
   ]
  },
  {
   "cell_type": "code",
   "execution_count": 25,
   "metadata": {},
   "outputs": [],
   "source": [
    "from statsmodels.tsa.seasonal import seasonal_decompose"
   ]
  },
  {
   "cell_type": "code",
   "execution_count": 26,
   "metadata": {},
   "outputs": [
    {
     "data": {
      "image/png": "[encoded data removed]",
      "text/plain": [
       "<Figure size 432x288 with 4 Axes>"
      ]
     },
     "metadata": {
      "needs_background": "light"
     },
     "output_type": "display_data"
    }
   ],
   "source": [
    "result = seasonal_decompose(df2['Inventories'], model='add')\n",
    "result.plot();"
   ]
  },
  {
   "cell_type": "markdown",
   "metadata": {},
   "source": [
    "Here, we can omit using the seasonal models as the magnitude of seasonality is very less than trend and observed values.\n",
    "\n",
    "**Step 2: Calculate the <tt>P, D & Q</tt>**"
   ]
  },
  {
   "cell_type": "code",
   "execution_count": 27,
   "metadata": {},
   "outputs": [
    {
     "data": {
      "text/html": [
       "<table class=\"simpletable\">\n",
       "<caption>SARIMAX Results</caption>\n",
       "<tr>\n",
       "  <th>Dep. Variable:</th>           <td>y</td>        <th>  No. Observations:  </th>    <td>264</td>   \n",
       "</tr>\n",
       "<tr>\n",
       "  <th>Model:</th>           <td>SARIMAX(0, 1, 0)</td> <th>  Log Likelihood     </th> <td>-2672.018</td>\n",
       "</tr>\n",
       "<tr>\n",
       "  <th>Date:</th>            <td>Thu, 30 Dec 2021</td> <th>  AIC                </th> <td>5348.037</td> \n",
       "</tr>\n",
       "<tr>\n",
       "  <th>Time:</th>                <td>11:03:31</td>     <th>  BIC                </th> <td>5355.181</td> \n",
       "</tr>\n",
       "<tr>\n",
       "  <th>Sample:</th>                  <td>0</td>        <th>  HQIC               </th> <td>5350.908</td> \n",
       "</tr>\n",
       "<tr>\n",
       "  <th></th>                      <td> - 264</td>      <th>                     </th>     <td> </td>    \n",
       "</tr>\n",
       "<tr>\n",
       "  <th>Covariance Type:</th>        <td>opg</td>       <th>                     </th>     <td> </td>    \n",
       "</tr>\n",
       "</table>\n",
       "<table class=\"simpletable\">\n",
       "<tr>\n",
       "      <td></td>         <th>coef</th>     <th>std err</th>      <th>z</th>      <th>P>|z|</th>  <th>[0.025</th>    <th>0.975]</th>  \n",
       "</tr>\n",
       "<tr>\n",
       "  <th>intercept</th> <td> 3258.3802</td> <td>  470.991</td> <td>    6.918</td> <td> 0.000</td> <td> 2335.255</td> <td> 4181.506</td>\n",
       "</tr>\n",
       "<tr>\n",
       "  <th>sigma2</th>    <td>  3.91e+07</td> <td> 2.95e+06</td> <td>   13.250</td> <td> 0.000</td> <td> 3.33e+07</td> <td> 4.49e+07</td>\n",
       "</tr>\n",
       "</table>\n",
       "<table class=\"simpletable\">\n",
       "<tr>\n",
       "  <th>Ljung-Box (L1) (Q):</th>     <td>82.61</td> <th>  Jarque-Bera (JB):  </th> <td>100.74</td>\n",
       "</tr>\n",
       "<tr>\n",
       "  <th>Prob(Q):</th>                <td>0.00</td>  <th>  Prob(JB):          </th>  <td>0.00</td> \n",
       "</tr>\n",
       "<tr>\n",
       "  <th>Heteroskedasticity (H):</th> <td>0.86</td>  <th>  Skew:              </th>  <td>-1.15</td>\n",
       "</tr>\n",
       "<tr>\n",
       "  <th>Prob(H) (two-sided):</th>    <td>0.48</td>  <th>  Kurtosis:          </th>  <td>4.98</td> \n",
       "</tr>\n",
       "</table><br/><br/>Warnings:<br/>[1] Covariance matrix calculated using the outer product of gradients (complex-step)."
      ],
      "text/plain": [
       "<class 'statsmodels.iolib.summary.Summary'>\n",
       "\"\"\"\n",
       "                               SARIMAX Results                                \n",
       "==============================================================================\n",
       "Dep. Variable:                      y   No. Observations:                  264\n",
       "Model:               SARIMAX(0, 1, 0)   Log Likelihood               -2672.018\n",
       "Date:                Thu, 30 Dec 2021   AIC                           5348.037\n",
       "Time:                        11:03:31   BIC                           5355.181\n",
       "Sample:                             0   HQIC                          5350.908\n",
       "                                - 264                                         \n",
       "Covariance Type:                  opg                                         \n",
       "==============================================================================\n",
       "                 coef    std err          z      P>|z|      [0.025      0.975]\n",
       "------------------------------------------------------------------------------\n",
       "intercept   3258.3802    470.991      6.918      0.000    2335.255    4181.506\n",
       "sigma2       3.91e+07   2.95e+06     13.250      0.000    3.33e+07    4.49e+07\n",
       "===================================================================================\n",
       "Ljung-Box (L1) (Q):                  82.61   Jarque-Bera (JB):               100.74\n",
       "Prob(Q):                              0.00   Prob(JB):                         0.00\n",
       "Heteroskedasticity (H):               0.86   Skew:                            -1.15\n",
       "Prob(H) (two-sided):                  0.48   Kurtosis:                         4.98\n",
       "===================================================================================\n",
       "\n",
       "Warnings:\n",
       "[1] Covariance matrix calculated using the outer product of gradients (complex-step).\n",
       "\"\"\""
      ]
     },
     "execution_count": 27,
     "metadata": {},
     "output_type": "execute_result"
    }
   ],
   "source": [
    "auto_arima(df2['Inventories'], seasonal=False).summary()"
   ]
  },
  {
   "cell_type": "code",
   "execution_count": 28,
   "metadata": {},
   "outputs": [],
   "source": [
    "from statsmodels.tsa.statespace.tools import diff"
   ]
  },
  {
   "cell_type": "code",
   "execution_count": 86,
   "metadata": {},
   "outputs": [],
   "source": [
    "diff_order = 2\n",
    "df2['diff'] = diff(df2['Inventories'], k_diff=diff_order)\n",
    "df2 = df2.dropna()"
   ]
  },
  {
   "cell_type": "markdown",
   "metadata": {},
   "source": [
    "Let's see if the series became stationary after differencing"
   ]
  },
  {
   "cell_type": "code",
   "execution_count": 87,
   "metadata": {},
   "outputs": [
    {
     "name": "stdout",
     "output_type": "stream",
     "text": [
      "Time-series is Stationary\n"
     ]
    }
   ],
   "source": [
    "def parse_results(results):\n",
    "    if results[1] <= 0.05:\n",
    "        print(\"Time-series is Stationary\")\n",
    "    else:\n",
    "        print(\"Time-series is Non-Stationary\")\n",
    "\n",
    "result = adfuller(df2['diff'])\n",
    "parse_results(result)"
   ]
  },
  {
   "cell_type": "markdown",
   "metadata": {},
   "source": [
    "Let's plot the ACF and PACF"
   ]
  },
  {
   "cell_type": "code",
   "execution_count": 88,
   "metadata": {},
   "outputs": [
    {
     "data": {
      "image/png": "[encoded data removed]",
      "text/plain": [
       "<Figure size 432x288 with 1 Axes>"
      ]
     },
     "metadata": {
      "needs_background": "light"
     },
     "output_type": "display_data"
    }
   ],
   "source": [
    "plot_acf(df2['Inventories'].dropna(), lags = 40);"
   ]
  },
  {
   "cell_type": "code",
   "execution_count": 89,
   "metadata": {},
   "outputs": [
    {
     "data": {
      "image/png": "[encoded data removed]",
      "text/plain": [
       "<Figure size 432x288 with 1 Axes>"
      ]
     },
     "metadata": {
      "needs_background": "light"
     },
     "output_type": "display_data"
    }
   ],
   "source": [
    "plot_pacf(df2['Inventories'], lags = 40);"
   ]
  },
  {
   "cell_type": "markdown",
   "metadata": {},
   "source": [
    "In the video, Jose used (1,1,1) orders for Arima model. So we'll use that only."
   ]
  },
  {
   "cell_type": "markdown",
   "metadata": {},
   "source": [
    "**Step 3 : Train Test Split**"
   ]
  },
  {
   "cell_type": "code",
   "execution_count": 90,
   "metadata": {},
   "outputs": [],
   "source": [
    "train = df2.iloc[:252]\n",
    "test = df2.iloc[252:]"
   ]
  },
  {
   "cell_type": "markdown",
   "metadata": {},
   "source": [
    "**Step 4 : Modelling**"
   ]
  },
  {
   "cell_type": "code",
   "execution_count": 91,
   "metadata": {},
   "outputs": [],
   "source": [
    "from statsmodels.tsa.arima_model import ARIMA"
   ]
  },
  {
   "cell_type": "code",
   "execution_count": 92,
   "metadata": {},
   "outputs": [
    {
     "name": "stderr",
     "output_type": "stream",
     "text": [
      "C:\\Users\\nevishwakarma\\AppData\\Local\\Programs\\Python\\Python38\\lib\\site-packages\\statsmodels\\tsa\\arima_model.py:472: FutureWarning: \n",
      "statsmodels.tsa.arima_model.ARMA and statsmodels.tsa.arima_model.ARIMA have\n",
      "been deprecated in favor of statsmodels.tsa.arima.model.ARIMA (note the .\n",
      "between arima and model) and\n",
      "statsmodels.tsa.SARIMAX. These will be removed after the 0.12 release.\n",
      "\n",
      "statsmodels.tsa.arima.model.ARIMA makes use of the statespace framework and\n",
      "is both well tested and maintained.\n",
      "\n",
      "To silence this warning and continue using ARMA and ARIMA until they are\n",
      "removed, use:\n",
      "\n",
      "import warnings\n",
      "warnings.filterwarnings('ignore', 'statsmodels.tsa.arima_model.ARMA',\n",
      "                        FutureWarning)\n",
      "warnings.filterwarnings('ignore', 'statsmodels.tsa.arima_model.ARIMA',\n",
      "                        FutureWarning)\n",
      "\n",
      "  warnings.warn(ARIMA_DEPRECATION_WARN, FutureWarning)\n",
      "C:\\Users\\nevishwakarma\\AppData\\Local\\Programs\\Python\\Python38\\lib\\site-packages\\statsmodels\\tsa\\arima_model.py:472: FutureWarning: \n",
      "statsmodels.tsa.arima_model.ARMA and statsmodels.tsa.arima_model.ARIMA have\n",
      "been deprecated in favor of statsmodels.tsa.arima.model.ARIMA (note the .\n",
      "between arima and model) and\n",
      "statsmodels.tsa.SARIMAX. These will be removed after the 0.12 release.\n",
      "\n",
      "statsmodels.tsa.arima.model.ARIMA makes use of the statespace framework and\n",
      "is both well tested and maintained.\n",
      "\n",
      "To silence this warning and continue using ARMA and ARIMA until they are\n",
      "removed, use:\n",
      "\n",
      "import warnings\n",
      "warnings.filterwarnings('ignore', 'statsmodels.tsa.arima_model.ARMA',\n",
      "                        FutureWarning)\n",
      "warnings.filterwarnings('ignore', 'statsmodels.tsa.arima_model.ARIMA',\n",
      "                        FutureWarning)\n",
      "\n",
      "  warnings.warn(ARIMA_DEPRECATION_WARN, FutureWarning)\n"
     ]
    },
    {
     "data": {
      "text/html": [
       "<table class=\"simpletable\">\n",
       "<caption>ARIMA Model Results</caption>\n",
       "<tr>\n",
       "  <th>Dep. Variable:</th>   <td>D.Inventories</td>  <th>  No. Observations:  </th>    <td>251</td>   \n",
       "</tr>\n",
       "<tr>\n",
       "  <th>Model:</th>          <td>ARIMA(1, 1, 1)</td>  <th>  Log Likelihood     </th> <td>-2483.374</td>\n",
       "</tr>\n",
       "<tr>\n",
       "  <th>Method:</th>             <td>css-mle</td>     <th>  S.D. of innovations</th> <td>4786.680</td> \n",
       "</tr>\n",
       "<tr>\n",
       "  <th>Date:</th>          <td>Thu, 30 Dec 2021</td> <th>  AIC                </th> <td>4974.747</td> \n",
       "</tr>\n",
       "<tr>\n",
       "  <th>Time:</th>              <td>11:48:53</td>     <th>  BIC                </th> <td>4988.849</td> \n",
       "</tr>\n",
       "<tr>\n",
       "  <th>Sample:</th>           <td>04-01-1997</td>    <th>  HQIC               </th> <td>4980.422</td> \n",
       "</tr>\n",
       "<tr>\n",
       "  <th></th>                 <td>- 02-01-2018</td>   <th>                     </th>     <td> </td>    \n",
       "</tr>\n",
       "</table>\n",
       "<table class=\"simpletable\">\n",
       "<tr>\n",
       "           <td></td>              <th>coef</th>     <th>std err</th>      <th>z</th>      <th>P>|z|</th>  <th>[0.025</th>    <th>0.975]</th>  \n",
       "</tr>\n",
       "<tr>\n",
       "  <th>const</th>               <td> 3576.5845</td> <td> 1393.241</td> <td>    2.567</td> <td> 0.010</td> <td>  845.883</td> <td> 6307.286</td>\n",
       "</tr>\n",
       "<tr>\n",
       "  <th>ar.L1.D.Inventories</th> <td>    0.9023</td> <td>    0.041</td> <td>   22.153</td> <td> 0.000</td> <td>    0.823</td> <td>    0.982</td>\n",
       "</tr>\n",
       "<tr>\n",
       "  <th>ma.L1.D.Inventories</th> <td>   -0.5375</td> <td>    0.084</td> <td>   -6.365</td> <td> 0.000</td> <td>   -0.703</td> <td>   -0.372</td>\n",
       "</tr>\n",
       "</table>\n",
       "<table class=\"simpletable\">\n",
       "<caption>Roots</caption>\n",
       "<tr>\n",
       "    <td></td>   <th>            Real</th>  <th>         Imaginary</th> <th>         Modulus</th>  <th>        Frequency</th>\n",
       "</tr>\n",
       "<tr>\n",
       "  <th>AR.1</th> <td>           1.1082</td> <td>          +0.0000j</td> <td>           1.1082</td> <td>           0.0000</td>\n",
       "</tr>\n",
       "<tr>\n",
       "  <th>MA.1</th> <td>           1.8604</td> <td>          +0.0000j</td> <td>           1.8604</td> <td>           0.0000</td>\n",
       "</tr>\n",
       "</table>"
      ],
      "text/plain": [
       "<class 'statsmodels.iolib.summary.Summary'>\n",
       "\"\"\"\n",
       "                             ARIMA Model Results                              \n",
       "==============================================================================\n",
       "Dep. Variable:          D.Inventories   No. Observations:                  251\n",
       "Model:                 ARIMA(1, 1, 1)   Log Likelihood               -2483.374\n",
       "Method:                       css-mle   S.D. of innovations           4786.680\n",
       "Date:                Thu, 30 Dec 2021   AIC                           4974.747\n",
       "Time:                        11:48:53   BIC                           4988.849\n",
       "Sample:                    04-01-1997   HQIC                          4980.422\n",
       "                         - 02-01-2018                                         \n",
       "=======================================================================================\n",
       "                          coef    std err          z      P>|z|      [0.025      0.975]\n",
       "---------------------------------------------------------------------------------------\n",
       "const                3576.5845   1393.241      2.567      0.010     845.883    6307.286\n",
       "ar.L1.D.Inventories     0.9023      0.041     22.153      0.000       0.823       0.982\n",
       "ma.L1.D.Inventories    -0.5375      0.084     -6.365      0.000      -0.703      -0.372\n",
       "                                    Roots                                    \n",
       "=============================================================================\n",
       "                  Real          Imaginary           Modulus         Frequency\n",
       "-----------------------------------------------------------------------------\n",
       "AR.1            1.1082           +0.0000j            1.1082            0.0000\n",
       "MA.1            1.8604           +0.0000j            1.8604            0.0000\n",
       "-----------------------------------------------------------------------------\n",
       "\"\"\""
      ]
     },
     "execution_count": 92,
     "metadata": {},
     "output_type": "execute_result"
    }
   ],
   "source": [
    "model = ARIMA(train['Inventories'], order=(1,1,1))\n",
    "results = model.fit()\n",
    "results.summary()"
   ]
  },
  {
   "cell_type": "markdown",
   "metadata": {},
   "source": [
    "**Step 5 : Predictions for testing**"
   ]
  },
  {
   "cell_type": "code",
   "execution_count": 93,
   "metadata": {},
   "outputs": [],
   "source": [
    "start = len(train)\n",
    "end = start + len(test) - 1"
   ]
  },
  {
   "cell_type": "code",
   "execution_count": 97,
   "metadata": {},
   "outputs": [
    {
     "data": {
      "text/plain": [
       "2018-03-01    2.123937e+06\n",
       "2018-04-01    2.129463e+06\n",
       "2018-05-01    2.134799e+06\n",
       "2018-06-01    2.139963e+06\n",
       "2018-07-01    2.144973e+06\n",
       "2018-08-01    2.149842e+06\n",
       "2018-09-01    2.154585e+06\n",
       "2018-10-01    2.159214e+06\n",
       "2018-11-01    2.163741e+06\n",
       "2018-12-01    2.168174e+06\n",
       "Freq: MS, Name: ARIMA(1,1,1) Predictions, dtype: float64"
      ]
     },
     "execution_count": 97,
     "metadata": {},
     "output_type": "execute_result"
    }
   ],
   "source": [
    "# Here typ should be 'levels' as we need the original data, the default value of type is 'linear' which will return back the differenced version of the data.\n",
    "predictions = results.predict(start,end, typ='levels').rename('ARIMA(1,1,1) Predictions')\n",
    "predictions"
   ]
  },
  {
   "cell_type": "code",
   "execution_count": 98,
   "metadata": {},
   "outputs": [
    {
     "data": {
      "text/plain": [
       "<AxesSubplot:xlabel='Date'>"
      ]
     },
     "execution_count": 98,
     "metadata": {},
     "output_type": "execute_result"
    },
    {
     "data": {
      "image/png": "[encoded data removed]",
      "text/plain": [
       "<Figure size 864x360 with 1 Axes>"
      ]
     },
     "metadata": {
      "needs_background": "light"
     },
     "output_type": "display_data"
    }
   ],
   "source": [
    "test['Inventories'].plot(figsize=(12,5), legend=True)\n",
    "predictions.plot(figsize=(12,5), legend=True)"
   ]
  },
  {
   "cell_type": "markdown",
   "metadata": {},
   "source": [
    "Above Predictions we made while ignoring the seasonal criterion, so ARIMA model (not seasonal) correctly predicted the trends. Let's evaluate the model and see the means of the values\n"
   ]
  },
  {
   "cell_type": "markdown",
   "metadata": {},
   "source": [
    "**Step 6 : Evaluating the Model**"
   ]
  },
  {
   "cell_type": "code",
   "execution_count": 99,
   "metadata": {},
   "outputs": [],
   "source": [
    "from statsmodels.tools.eval_measures import rmse"
   ]
  },
  {
   "cell_type": "code",
   "execution_count": 100,
   "metadata": {},
   "outputs": [],
   "source": [
    "error = rmse(test['Inventories'], predictions)"
   ]
  },
  {
   "cell_type": "code",
   "execution_count": 101,
   "metadata": {},
   "outputs": [
    {
     "data": {
      "text/plain": [
       "20525.393661847927"
      ]
     },
     "execution_count": 101,
     "metadata": {},
     "output_type": "execute_result"
    }
   ],
   "source": [
    "error"
   ]
  },
  {
   "cell_type": "code",
   "execution_count": 102,
   "metadata": {},
   "outputs": [
    {
     "data": {
      "text/plain": [
       "2127255.1"
      ]
     },
     "execution_count": 102,
     "metadata": {},
     "output_type": "execute_result"
    }
   ],
   "source": [
    "test['Inventories'].mean()"
   ]
  },
  {
   "cell_type": "code",
   "execution_count": 103,
   "metadata": {},
   "outputs": [
    {
     "data": {
      "text/plain": [
       "2146869.111107732"
      ]
     },
     "execution_count": 103,
     "metadata": {},
     "output_type": "execute_result"
    }
   ],
   "source": [
    "predictions.mean()"
   ]
  },
  {
   "cell_type": "markdown",
   "metadata": {},
   "source": [
    "So we see the mean of the test set and the predictions are quite close"
   ]
  },
  {
   "cell_type": "markdown",
   "metadata": {},
   "source": [
    "**Step 7 : Forecasting**"
   ]
  },
  {
   "cell_type": "code",
   "execution_count": 108,
   "metadata": {},
   "outputs": [
    {
     "name": "stderr",
     "output_type": "stream",
     "text": [
      "C:\\Users\\nevishwakarma\\AppData\\Local\\Programs\\Python\\Python38\\lib\\site-packages\\statsmodels\\tsa\\arima_model.py:472: FutureWarning: \n",
      "statsmodels.tsa.arima_model.ARMA and statsmodels.tsa.arima_model.ARIMA have\n",
      "been deprecated in favor of statsmodels.tsa.arima.model.ARIMA (note the .\n",
      "between arima and model) and\n",
      "statsmodels.tsa.SARIMAX. These will be removed after the 0.12 release.\n",
      "\n",
      "statsmodels.tsa.arima.model.ARIMA makes use of the statespace framework and\n",
      "is both well tested and maintained.\n",
      "\n",
      "To silence this warning and continue using ARMA and ARIMA until they are\n",
      "removed, use:\n",
      "\n",
      "import warnings\n",
      "warnings.filterwarnings('ignore', 'statsmodels.tsa.arima_model.ARMA',\n",
      "                        FutureWarning)\n",
      "warnings.filterwarnings('ignore', 'statsmodels.tsa.arima_model.ARIMA',\n",
      "                        FutureWarning)\n",
      "\n",
      "  warnings.warn(ARIMA_DEPRECATION_WARN, FutureWarning)\n",
      "C:\\Users\\nevishwakarma\\AppData\\Local\\Programs\\Python\\Python38\\lib\\site-packages\\statsmodels\\tsa\\arima_model.py:472: FutureWarning: \n",
      "statsmodels.tsa.arima_model.ARMA and statsmodels.tsa.arima_model.ARIMA have\n",
      "been deprecated in favor of statsmodels.tsa.arima.model.ARIMA (note the .\n",
      "between arima and model) and\n",
      "statsmodels.tsa.SARIMAX. These will be removed after the 0.12 release.\n",
      "\n",
      "statsmodels.tsa.arima.model.ARIMA makes use of the statespace framework and\n",
      "is both well tested and maintained.\n",
      "\n",
      "To silence this warning and continue using ARMA and ARIMA until they are\n",
      "removed, use:\n",
      "\n",
      "import warnings\n",
      "warnings.filterwarnings('ignore', 'statsmodels.tsa.arima_model.ARMA',\n",
      "                        FutureWarning)\n",
      "warnings.filterwarnings('ignore', 'statsmodels.tsa.arima_model.ARIMA',\n",
      "                        FutureWarning)\n",
      "\n",
      "  warnings.warn(ARIMA_DEPRECATION_WARN, FutureWarning)\n"
     ]
    },
    {
     "data": {
      "text/html": [
       "<table class=\"simpletable\">\n",
       "<caption>ARIMA Model Results</caption>\n",
       "<tr>\n",
       "  <th>Dep. Variable:</th>   <td>D.Inventories</td>  <th>  No. Observations:  </th>    <td>261</td>   \n",
       "</tr>\n",
       "<tr>\n",
       "  <th>Model:</th>          <td>ARIMA(1, 1, 1)</td>  <th>  Log Likelihood     </th> <td>-2588.151</td>\n",
       "</tr>\n",
       "<tr>\n",
       "  <th>Method:</th>             <td>css-mle</td>     <th>  S.D. of innovations</th> <td>4895.443</td> \n",
       "</tr>\n",
       "<tr>\n",
       "  <th>Date:</th>          <td>Thu, 30 Dec 2021</td> <th>  AIC                </th> <td>5184.302</td> \n",
       "</tr>\n",
       "<tr>\n",
       "  <th>Time:</th>              <td>12:00:23</td>     <th>  BIC                </th> <td>5198.560</td> \n",
       "</tr>\n",
       "<tr>\n",
       "  <th>Sample:</th>           <td>04-01-1997</td>    <th>  HQIC               </th> <td>5190.033</td> \n",
       "</tr>\n",
       "<tr>\n",
       "  <th></th>                 <td>- 12-01-2018</td>   <th>                     </th>     <td> </td>    \n",
       "</tr>\n",
       "</table>\n",
       "<table class=\"simpletable\">\n",
       "<tr>\n",
       "           <td></td>              <th>coef</th>     <th>std err</th>      <th>z</th>      <th>P>|z|</th>  <th>[0.025</th>    <th>0.975]</th>  \n",
       "</tr>\n",
       "<tr>\n",
       "  <th>const</th>               <td> 3676.8500</td> <td> 1370.984</td> <td>    2.682</td> <td> 0.007</td> <td>  989.771</td> <td> 6363.929</td>\n",
       "</tr>\n",
       "<tr>\n",
       "  <th>ar.L1.D.Inventories</th> <td>    0.9048</td> <td>    0.039</td> <td>   22.933</td> <td> 0.000</td> <td>    0.827</td> <td>    0.982</td>\n",
       "</tr>\n",
       "<tr>\n",
       "  <th>ma.L1.D.Inventories</th> <td>   -0.5589</td> <td>    0.079</td> <td>   -7.045</td> <td> 0.000</td> <td>   -0.714</td> <td>   -0.403</td>\n",
       "</tr>\n",
       "</table>\n",
       "<table class=\"simpletable\">\n",
       "<caption>Roots</caption>\n",
       "<tr>\n",
       "    <td></td>   <th>            Real</th>  <th>         Imaginary</th> <th>         Modulus</th>  <th>        Frequency</th>\n",
       "</tr>\n",
       "<tr>\n",
       "  <th>AR.1</th> <td>           1.1053</td> <td>          +0.0000j</td> <td>           1.1053</td> <td>           0.0000</td>\n",
       "</tr>\n",
       "<tr>\n",
       "  <th>MA.1</th> <td>           1.7892</td> <td>          +0.0000j</td> <td>           1.7892</td> <td>           0.0000</td>\n",
       "</tr>\n",
       "</table>"
      ],
      "text/plain": [
       "<class 'statsmodels.iolib.summary.Summary'>\n",
       "\"\"\"\n",
       "                             ARIMA Model Results                              \n",
       "==============================================================================\n",
       "Dep. Variable:          D.Inventories   No. Observations:                  261\n",
       "Model:                 ARIMA(1, 1, 1)   Log Likelihood               -2588.151\n",
       "Method:                       css-mle   S.D. of innovations           4895.443\n",
       "Date:                Thu, 30 Dec 2021   AIC                           5184.302\n",
       "Time:                        12:00:23   BIC                           5198.560\n",
       "Sample:                    04-01-1997   HQIC                          5190.033\n",
       "                         - 12-01-2018                                         \n",
       "=======================================================================================\n",
       "                          coef    std err          z      P>|z|      [0.025      0.975]\n",
       "---------------------------------------------------------------------------------------\n",
       "const                3676.8500   1370.984      2.682      0.007     989.771    6363.929\n",
       "ar.L1.D.Inventories     0.9048      0.039     22.933      0.000       0.827       0.982\n",
       "ma.L1.D.Inventories    -0.5589      0.079     -7.045      0.000      -0.714      -0.403\n",
       "                                    Roots                                    \n",
       "=============================================================================\n",
       "                  Real          Imaginary           Modulus         Frequency\n",
       "-----------------------------------------------------------------------------\n",
       "AR.1            1.1053           +0.0000j            1.1053            0.0000\n",
       "MA.1            1.7892           +0.0000j            1.7892            0.0000\n",
       "-----------------------------------------------------------------------------\n",
       "\"\"\""
      ]
     },
     "execution_count": 108,
     "metadata": {},
     "output_type": "execute_result"
    }
   ],
   "source": [
    "model = ARIMA(df2['Inventories'], order=(1,1,1));\n",
    "results = model.fit();\n",
    "results.summary()"
   ]
  },
  {
   "cell_type": "code",
   "execution_count": 105,
   "metadata": {},
   "outputs": [],
   "source": [
    "forecasts = results.predict(start=len(df2), end=len(df2) + 11, typ='levels').rename('ARIMA(1,1,1) Forecast')"
   ]
  },
  {
   "cell_type": "code",
   "execution_count": 106,
   "metadata": {},
   "outputs": [
    {
     "data": {
      "text/plain": [
       "<AxesSubplot:xlabel='Date'>"
      ]
     },
     "execution_count": 106,
     "metadata": {},
     "output_type": "execute_result"
    },
    {
     "data": {
      "image/png": "[encoded data removed]",
      "text/plain": [
       "<Figure size 864x360 with 1 Axes>"
      ]
     },
     "metadata": {
      "needs_background": "light"
     },
     "output_type": "display_data"
    }
   ],
   "source": [
    "df2['Inventories'].plot(figsize=(12,5), legend=True)\n",
    "forecasts.plot(figsize=(12,5), legend=True)"
   ]
  },
  {
   "cell_type": "code",
   "execution_count": null,
   "metadata": {},
   "outputs": [],
   "source": []
  }
 ],
 "metadata": {
  "interpreter": {
   "hash": "23b3ef45bc6666d616e53a5695b9fbdcbc2f6ae61b72dd83b61aa80da4869d7d"
  },
  "kernelspec": {
   "display_name": "Python 3.8.6 64-bit",
   "language": "python",
   "name": "python3"
  },
  "language_info": {
   "codemirror_mode": {
    "name": "ipython",
    "version": 3
   },
   "file_extension": ".py",
   "mimetype": "text/x-python",
   "name": "python",
   "nbconvert_exporter": "python",
   "pygments_lexer": "ipython3",
   "version": "3.8.6"
  },
  "orig_nbformat": 4
 },
 "nbformat": 4,
 "nbformat_minor": 2
}
